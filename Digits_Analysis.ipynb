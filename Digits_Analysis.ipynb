{
  "cells": [
    {
      "cell_type": "markdown",
      "id": "c0e18b6c-df85-493c-8ae8-397a89e7ec29",
      "metadata": {
        "id": "c0e18b6c-df85-493c-8ae8-397a89e7ec29"
      },
      "source": [
        "# Sklearn Digits Data Analysis"
      ]
    },
    {
      "cell_type": "markdown",
      "id": "2abb8aae-de23-4d15-8aa7-164c626d3f55",
      "metadata": {
        "id": "2abb8aae-de23-4d15-8aa7-164c626d3f55"
      },
      "source": [
        "### Getting the data in order"
      ]
    },
    {
      "cell_type": "code",
      "execution_count": 1,
      "id": "4a1e700d-4486-4aad-abd6-a63920456a44",
      "metadata": {
        "id": "4a1e700d-4486-4aad-abd6-a63920456a44"
      },
      "outputs": [],
      "source": [
        "import matplotlib.pyplot as plt\n",
        "import numpy as np\n",
        "import pandas as pd\n",
        "from sklearn import datasets\n",
        "\n",
        "digits = datasets.load_digits()"
      ]
    },
    {
      "cell_type": "code",
      "execution_count": 2,
      "id": "188bdc60-4658-4d5d-bbde-748273185759",
      "metadata": {
        "colab": {
          "base_uri": "https://localhost:8080/"
        },
        "id": "188bdc60-4658-4d5d-bbde-748273185759",
        "outputId": "5eb9bdbc-8af9-403e-942c-487a6ab14997"
      },
      "outputs": [
        {
          "name": "stdout",
          "output_type": "stream",
          "text": [
            "[[ 0.  0.  5. ...  0.  0.  0.]\n",
            " [ 0.  0.  0. ... 10.  0.  0.]\n",
            " [ 0.  0.  0. ... 16.  9.  0.]\n",
            " ...\n",
            " [ 0.  0.  1. ...  6.  0.  0.]\n",
            " [ 0.  0.  2. ... 12.  0.  0.]\n",
            " [ 0.  0. 10. ... 12.  1.  0.]]\n"
          ]
        }
      ],
      "source": [
        "X = digits.data\n",
        "print(X)"
      ]
    },
    {
      "cell_type": "code",
      "execution_count": 3,
      "id": "QsIA5OXa11Z6",
      "metadata": {
        "colab": {
          "base_uri": "https://localhost:8080/"
        },
        "id": "QsIA5OXa11Z6",
        "outputId": "c690d5d1-6c0b-44e5-e77c-8b2cecfaaba0"
      },
      "outputs": [
        {
          "name": "stdout",
          "output_type": "stream",
          "text": [
            "[ 0.  0.  5. 13.  9.  1.  0.  0.  0.  0. 13. 15. 10. 15.  5.  0.  0.  3.\n",
            " 15.  2.  0. 11.  8.  0.  0.  4. 12.  0.  0.  8.  8.  0.  0.  5.  8.  0.\n",
            "  0.  9.  8.  0.  0.  4. 11.  0.  1. 12.  7.  0.  0.  2. 14.  5. 10. 12.\n",
            "  0.  0.  0.  0.  6. 13. 10.  0.  0.  0.]\n"
          ]
        }
      ],
      "source": [
        "print(X[0])"
      ]
    },
    {
      "cell_type": "code",
      "execution_count": 4,
      "id": "oD_sqJCE1Ykn",
      "metadata": {
        "colab": {
          "base_uri": "https://localhost:8080/"
        },
        "id": "oD_sqJCE1Ykn",
        "outputId": "9d667184-8da2-4150-95d0-25f5ac740783"
      },
      "outputs": [
        {
          "name": "stdout",
          "output_type": "stream",
          "text": [
            "(1797, 64)\n"
          ]
        }
      ],
      "source": [
        "print(X.shape)"
      ]
    },
    {
      "cell_type": "code",
      "execution_count": 5,
      "id": "f99c2046-4382-4a4f-bad2-b14a30e475c0",
      "metadata": {
        "colab": {
          "base_uri": "https://localhost:8080/"
        },
        "id": "f99c2046-4382-4a4f-bad2-b14a30e475c0",
        "outputId": "f42ecf97-567f-4a02-d884-c985985e714a"
      },
      "outputs": [
        {
          "name": "stdout",
          "output_type": "stream",
          "text": [
            "[0 1 2 ... 8 9 8]\n"
          ]
        }
      ],
      "source": [
        "y = digits.target\n",
        "print(y)"
      ]
    },
    {
      "cell_type": "code",
      "execution_count": 6,
      "id": "5922ofGH6mhE",
      "metadata": {
        "colab": {
          "base_uri": "https://localhost:8080/"
        },
        "id": "5922ofGH6mhE",
        "outputId": "70e7a038-5fa6-4253-d50d-21c9e0241982"
      },
      "outputs": [
        {
          "name": "stdout",
          "output_type": "stream",
          "text": [
            "(1797,)\n"
          ]
        }
      ],
      "source": [
        "print(y.shape)"
      ]
    },
    {
      "cell_type": "markdown",
      "id": "42d59feb-1697-4648-b55b-04ab599ab653",
      "metadata": {
        "id": "42d59feb-1697-4648-b55b-04ab599ab653"
      },
      "source": [
        "### Performing K-fold Cross Validation"
      ]
    },
    {
      "cell_type": "code",
      "execution_count": 7,
      "id": "41defc96-1f8b-4aed-a660-0772a1f72aea",
      "metadata": {
        "id": "41defc96-1f8b-4aed-a660-0772a1f72aea"
      },
      "outputs": [],
      "source": [
        "def do_Kfold(model, X, y, k, scaler = None, random_state = 146):\n",
        "    from sklearn.model_selection import KFold\n",
        "\n",
        "    kf = KFold(n_splits=k, random_state = random_state, shuffle=True)\n",
        "\n",
        "    train_scores = []\n",
        "    test_scores = []\n",
        "\n",
        "    for idxTrain, idxTest in kf.split(X):\n",
        "        Xtrain = X[idxTrain, :]\n",
        "        Xtest = X[idxTest, :]\n",
        "        ytrain = y[idxTrain]\n",
        "        ytest = y[idxTest]\n",
        "        if scaler != None:\n",
        "            Xtrain = scaler.fit_transform(Xtrain)\n",
        "            Xtest = scaler.transform(Xtest)\n",
        "\n",
        "        model.fit(Xtrain,ytrain)\n",
        "\n",
        "        train_scores.append(model.score(Xtrain,ytrain))\n",
        "        test_scores.append(model.score(Xtest,ytest))\n",
        "\n",
        "    return train_scores, test_scores"
      ]
    },
    {
      "cell_type": "code",
      "execution_count": 8,
      "id": "8bae2857-a432-4bed-aba4-bb6f022605d6",
      "metadata": {
        "id": "8bae2857-a432-4bed-aba4-bb6f022605d6"
      },
      "outputs": [],
      "source": [
        "from sklearn.svm import SVC as SVC"
      ]
    },
    {
      "cell_type": "code",
      "execution_count": 9,
      "id": "4d1d651c-c256-440c-bfca-a0af61885edd",
      "metadata": {
        "id": "4d1d651c-c256-440c-bfca-a0af61885edd"
      },
      "outputs": [],
      "source": [
        "svc = SVC()"
      ]
    },
    {
      "cell_type": "code",
      "execution_count": 10,
      "id": "e382f77b-63a2-4419-a6a0-b273be794f67",
      "metadata": {
        "id": "e382f77b-63a2-4419-a6a0-b273be794f67"
      },
      "outputs": [],
      "source": [
        "results = do_Kfold(model = svc, X = digits.data, y = y, k = 25, scaler = None, random_state = 146)"
      ]
    },
    {
      "cell_type": "code",
      "execution_count": 11,
      "id": "ce46e066-bd82-496f-b358-bcec9421ccb0",
      "metadata": {
        "colab": {
          "base_uri": "https://localhost:8080/"
        },
        "id": "ce46e066-bd82-496f-b358-bcec9421ccb0",
        "outputId": "d8dcd165-1ae7-4bbc-a6cb-1e97d3718460"
      },
      "outputs": [
        {
          "data": {
            "text/plain": [
              "([0.9959420289855072,\n",
              "  0.9959420289855072,\n",
              "  0.9965217391304347,\n",
              "  0.9965217391304347,\n",
              "  0.9971014492753624,\n",
              "  0.9965217391304347,\n",
              "  0.9965217391304347,\n",
              "  0.9965217391304347,\n",
              "  0.9965217391304347,\n",
              "  0.9971014492753624,\n",
              "  0.9971014492753624,\n",
              "  0.9965217391304347,\n",
              "  0.9971014492753624,\n",
              "  0.9965217391304347,\n",
              "  0.9965217391304347,\n",
              "  0.9976811594202899,\n",
              "  0.9971014492753624,\n",
              "  0.9965217391304347,\n",
              "  0.9965217391304347,\n",
              "  0.9965217391304347,\n",
              "  0.9971014492753624,\n",
              "  0.9965217391304347,\n",
              "  0.996523754345307,\n",
              "  0.996523754345307,\n",
              "  0.9959443800695249],\n",
              " [1.0,\n",
              "  0.9722222222222222,\n",
              "  0.9861111111111112,\n",
              "  0.9861111111111112,\n",
              "  1.0,\n",
              "  0.9861111111111112,\n",
              "  1.0,\n",
              "  0.9861111111111112,\n",
              "  0.9722222222222222,\n",
              "  0.9583333333333334,\n",
              "  0.9861111111111112,\n",
              "  0.9861111111111112,\n",
              "  0.9861111111111112,\n",
              "  1.0,\n",
              "  1.0,\n",
              "  0.9722222222222222,\n",
              "  0.9861111111111112,\n",
              "  1.0,\n",
              "  0.9861111111111112,\n",
              "  1.0,\n",
              "  1.0,\n",
              "  1.0,\n",
              "  0.9859154929577465,\n",
              "  1.0,\n",
              "  0.9859154929577465])"
            ]
          },
          "execution_count": 11,
          "metadata": {},
          "output_type": "execute_result"
        }
      ],
      "source": [
        "results"
      ]
    },
    {
      "cell_type": "code",
      "execution_count": 12,
      "id": "7fafc103-521e-468d-9443-9e9349c2d756",
      "metadata": {
        "colab": {
          "base_uri": "https://localhost:8080/"
        },
        "id": "7fafc103-521e-468d-9443-9e9349c2d756",
        "outputId": "f0af9a94-20c3-4e16-df30-9c90d308a6e4"
      },
      "outputs": [
        {
          "data": {
            "text/plain": [
              "0.9888732394366196"
            ]
          },
          "execution_count": 12,
          "metadata": {},
          "output_type": "execute_result"
        }
      ],
      "source": [
        "np.mean(results[1])"
      ]
    },
    {
      "cell_type": "markdown",
      "id": "e3afcb63-fab1-4fe1-bf9f-8cb1f4b47941",
      "metadata": {
        "id": "e3afcb63-fab1-4fe1-bf9f-8cb1f4b47941"
      },
      "source": [
        "#### The scores are very good"
      ]
    },
    {
      "cell_type": "markdown",
      "id": "1ce81d0d-669c-455b-8b60-fff39f73d4b6",
      "metadata": {
        "id": "1ce81d0d-669c-455b-8b60-fff39f73d4b6"
      },
      "source": [
        "### Now lets do a single train test split"
      ]
    },
    {
      "cell_type": "code",
      "execution_count": 13,
      "id": "57e33d5e-9649-490a-b6b7-dda04881047f",
      "metadata": {
        "id": "57e33d5e-9649-490a-b6b7-dda04881047f"
      },
      "outputs": [],
      "source": [
        "from sklearn.model_selection import train_test_split as tts\n",
        "X_train, X_test, y_train, y_test = tts(X, y, test_size=0.25)"
      ]
    },
    {
      "cell_type": "markdown",
      "id": "384a8ef4-fa1d-4015-818c-78fbb94c4d58",
      "metadata": {
        "id": "384a8ef4-fa1d-4015-818c-78fbb94c4d58"
      },
      "source": [
        "### Then fit and score the model"
      ]
    },
    {
      "cell_type": "code",
      "execution_count": 14,
      "id": "40a6f1d5-8423-4293-a25a-d3638be56b60",
      "metadata": {
        "colab": {
          "base_uri": "https://localhost:8080/",
          "height": 75
        },
        "id": "40a6f1d5-8423-4293-a25a-d3638be56b60",
        "outputId": "5a82c2a5-b20b-4f9a-c1f5-f9e3d14f8828"
      },
      "outputs": [
        {
          "data": {
            "text/html": [
              "<style>#sk-container-id-1 {color: black;background-color: white;}#sk-container-id-1 pre{padding: 0;}#sk-container-id-1 div.sk-toggleable {background-color: white;}#sk-container-id-1 label.sk-toggleable__label {cursor: pointer;display: block;width: 100%;margin-bottom: 0;padding: 0.3em;box-sizing: border-box;text-align: center;}#sk-container-id-1 label.sk-toggleable__label-arrow:before {content: \"▸\";float: left;margin-right: 0.25em;color: #696969;}#sk-container-id-1 label.sk-toggleable__label-arrow:hover:before {color: black;}#sk-container-id-1 div.sk-estimator:hover label.sk-toggleable__label-arrow:before {color: black;}#sk-container-id-1 div.sk-toggleable__content {max-height: 0;max-width: 0;overflow: hidden;text-align: left;background-color: #f0f8ff;}#sk-container-id-1 div.sk-toggleable__content pre {margin: 0.2em;color: black;border-radius: 0.25em;background-color: #f0f8ff;}#sk-container-id-1 input.sk-toggleable__control:checked~div.sk-toggleable__content {max-height: 200px;max-width: 100%;overflow: auto;}#sk-container-id-1 input.sk-toggleable__control:checked~label.sk-toggleable__label-arrow:before {content: \"▾\";}#sk-container-id-1 div.sk-estimator input.sk-toggleable__control:checked~label.sk-toggleable__label {background-color: #d4ebff;}#sk-container-id-1 div.sk-label input.sk-toggleable__control:checked~label.sk-toggleable__label {background-color: #d4ebff;}#sk-container-id-1 input.sk-hidden--visually {border: 0;clip: rect(1px 1px 1px 1px);clip: rect(1px, 1px, 1px, 1px);height: 1px;margin: -1px;overflow: hidden;padding: 0;position: absolute;width: 1px;}#sk-container-id-1 div.sk-estimator {font-family: monospace;background-color: #f0f8ff;border: 1px dotted black;border-radius: 0.25em;box-sizing: border-box;margin-bottom: 0.5em;}#sk-container-id-1 div.sk-estimator:hover {background-color: #d4ebff;}#sk-container-id-1 div.sk-parallel-item::after {content: \"\";width: 100%;border-bottom: 1px solid gray;flex-grow: 1;}#sk-container-id-1 div.sk-label:hover label.sk-toggleable__label {background-color: #d4ebff;}#sk-container-id-1 div.sk-serial::before {content: \"\";position: absolute;border-left: 1px solid gray;box-sizing: border-box;top: 0;bottom: 0;left: 50%;z-index: 0;}#sk-container-id-1 div.sk-serial {display: flex;flex-direction: column;align-items: center;background-color: white;padding-right: 0.2em;padding-left: 0.2em;position: relative;}#sk-container-id-1 div.sk-item {position: relative;z-index: 1;}#sk-container-id-1 div.sk-parallel {display: flex;align-items: stretch;justify-content: center;background-color: white;position: relative;}#sk-container-id-1 div.sk-item::before, #sk-container-id-1 div.sk-parallel-item::before {content: \"\";position: absolute;border-left: 1px solid gray;box-sizing: border-box;top: 0;bottom: 0;left: 50%;z-index: -1;}#sk-container-id-1 div.sk-parallel-item {display: flex;flex-direction: column;z-index: 1;position: relative;background-color: white;}#sk-container-id-1 div.sk-parallel-item:first-child::after {align-self: flex-end;width: 50%;}#sk-container-id-1 div.sk-parallel-item:last-child::after {align-self: flex-start;width: 50%;}#sk-container-id-1 div.sk-parallel-item:only-child::after {width: 0;}#sk-container-id-1 div.sk-dashed-wrapped {border: 1px dashed gray;margin: 0 0.4em 0.5em 0.4em;box-sizing: border-box;padding-bottom: 0.4em;background-color: white;}#sk-container-id-1 div.sk-label label {font-family: monospace;font-weight: bold;display: inline-block;line-height: 1.2em;}#sk-container-id-1 div.sk-label-container {text-align: center;}#sk-container-id-1 div.sk-container {/* jupyter's `normalize.less` sets `[hidden] { display: none; }` but bootstrap.min.css set `[hidden] { display: none !important; }` so we also need the `!important` here to be able to override the default hidden behavior on the sphinx rendered scikit-learn.org. See: https://github.com/scikit-learn/scikit-learn/issues/21755 */display: inline-block !important;position: relative;}#sk-container-id-1 div.sk-text-repr-fallback {display: none;}</style><div id=\"sk-container-id-1\" class=\"sk-top-container\"><div class=\"sk-text-repr-fallback\"><pre>SVC()</pre><b>In a Jupyter environment, please rerun this cell to show the HTML representation or trust the notebook. <br />On GitHub, the HTML representation is unable to render, please try loading this page with nbviewer.org.</b></div><div class=\"sk-container\" hidden><div class=\"sk-item\"><div class=\"sk-estimator sk-toggleable\"><input class=\"sk-toggleable__control sk-hidden--visually\" id=\"sk-estimator-id-1\" type=\"checkbox\" checked><label for=\"sk-estimator-id-1\" class=\"sk-toggleable__label sk-toggleable__label-arrow\">SVC</label><div class=\"sk-toggleable__content\"><pre>SVC()</pre></div></div></div></div></div>"
            ],
            "text/plain": [
              "SVC()"
            ]
          },
          "execution_count": 14,
          "metadata": {},
          "output_type": "execute_result"
        }
      ],
      "source": [
        "svc = SVC()\n",
        "svc.fit(X_train, y_train)"
      ]
    },
    {
      "cell_type": "code",
      "execution_count": 15,
      "id": "e248b01d-e792-49d4-b267-98abe787205e",
      "metadata": {
        "colab": {
          "base_uri": "https://localhost:8080/"
        },
        "id": "e248b01d-e792-49d4-b267-98abe787205e",
        "outputId": "2ffeb0cf-2337-476d-8564-71ee00836c45"
      },
      "outputs": [
        {
          "data": {
            "text/plain": [
              "0.98"
            ]
          },
          "execution_count": 15,
          "metadata": {},
          "output_type": "execute_result"
        }
      ],
      "source": [
        "svc.score(X_test, y_test)"
      ]
    },
    {
      "cell_type": "markdown",
      "id": "282be312-477d-4ab6-9bc4-1176835a699b",
      "metadata": {
        "id": "282be312-477d-4ab6-9bc4-1176835a699b"
      },
      "source": [
        "### Hyperparameter optimization"
      ]
    },
    {
      "cell_type": "code",
      "execution_count": 16,
      "id": "7291ac19-5268-4363-bfcc-7e1b305e77a0",
      "metadata": {
        "colab": {
          "base_uri": "https://localhost:8080/"
        },
        "id": "7291ac19-5268-4363-bfcc-7e1b305e77a0",
        "outputId": "1d045361-5595-46b1-8dbb-1df323de9669"
      },
      "outputs": [
        {
          "data": {
            "text/plain": [
              "0.9844444444444445"
            ]
          },
          "execution_count": 16,
          "metadata": {},
          "output_type": "execute_result"
        }
      ],
      "source": [
        "param_grid = dict(C=np.linspace(0.01, 10, 10), kernel = ['linear', 'poly', 'rbf', 'sigmoid'],\n",
        "                  gamma = ['scale', 'auto'])\n",
        "#use 10 folds\n",
        "from sklearn.model_selection import KFold\n",
        "from sklearn.model_selection import GridSearchCV\n",
        "cv = KFold(n_splits=10, random_state=201, shuffle = True)\n",
        "grid = GridSearchCV(svc, param_grid=param_grid, cv=cv, scoring='accuracy')\n",
        "#create the gridsearchCV object, score on accuracy\n",
        "#fit the gridsearch\n",
        "grid.fit(X_train, y_train)\n",
        "grid.score(X_test, y_test)"
      ]
    },
    {
      "cell_type": "code",
      "execution_count": 17,
      "id": "84b65b60-3658-4601-9c8b-bba19d4684f3",
      "metadata": {
        "colab": {
          "base_uri": "https://localhost:8080/"
        },
        "id": "84b65b60-3658-4601-9c8b-bba19d4684f3",
        "outputId": "df7cac1d-b3c1-4d70-eac3-7ca99603eefd"
      },
      "outputs": [
        {
          "name": "stdout",
          "output_type": "stream",
          "text": [
            "The best parameters are {'C': 2.23, 'gamma': 'scale', 'kernel': 'rbf'} with a score of 0.99\n"
          ]
        }
      ],
      "source": [
        "print(f'The best parameters are {grid.best_params_} with a score of {grid.best_score_:.2f}')"
      ]
    },
    {
      "cell_type": "code",
      "execution_count": 18,
      "id": "0c42cb28-ee7a-410c-83b2-69ccc7d48751",
      "metadata": {
        "colab": {
          "base_uri": "https://localhost:8080/"
        },
        "id": "0c42cb28-ee7a-410c-83b2-69ccc7d48751",
        "outputId": "0d910c11-1788-47e8-b125-ea55e56f6375"
      },
      "outputs": [
        {
          "data": {
            "text/plain": [
              "0.9844444444444445"
            ]
          },
          "execution_count": 18,
          "metadata": {},
          "output_type": "execute_result"
        }
      ],
      "source": [
        "svc = SVC(C = grid.best_params_['C'], gamma = grid.best_params_['gamma'], kernel = grid.best_params_['kernel'])\n",
        "svc.fit(X_train, y_train)\n",
        "svc.score(X_test, y_test)"
      ]
    },
    {
      "cell_type": "markdown",
      "id": "943bb6f0-6376-46d5-b1af-250f09a31df5",
      "metadata": {
        "id": "943bb6f0-6376-46d5-b1af-250f09a31df5"
      },
      "source": [
        "### Displaying the results"
      ]
    },
    {
      "cell_type": "code",
      "execution_count": 19,
      "id": "f44354d4-940e-4157-83b4-0659fe7fe3cd",
      "metadata": {
        "colab": {
          "base_uri": "https://localhost:8080/"
        },
        "id": "f44354d4-940e-4157-83b4-0659fe7fe3cd",
        "outputId": "d0512008-f215-4228-efab-3433302e33dc"
      },
      "outputs": [
        {
          "name": "stdout",
          "output_type": "stream",
          "text": [
            "[9 6 9 0 7 8 9 7 0 4 5 5 8 6 3 4 7 9 3 0 1 2 4 3 0 2 2 2 6 3 4 2 3 1 2 6 2\n",
            " 0 8 8 2 4 7 0 5 5 1 9 9 0 1 5 0 7 4 7 3 1 0 4 7 4 2 4 4 9 8 3 7 6 7 0 3 9\n",
            " 7 0 5 0 0 3 2 6 5 0 9 0 0 3 4 8 2 4 5 6 6 9 1 7 9 7 0 8 1 8 8 2 0 9 4 6 6\n",
            " 4 0 9 2 4 1 5 9 0 5 2 3 2 7 2 3 4 4 6 7 3 7 6 4 4 4 6 5 0 3 2 5 9 8 1 9 4\n",
            " 6 6 0 6 9 7 8 8 9 7 2 5 6 4 6 1 5 5 4 2 6 1 2 7 8 0 2 2 8 6 8 0 8 8 3 6 3\n",
            " 1 2 1 0 3 3 3 4 5 3 5 8 0 1 5 6 3 4 3 8 6 6 6 2 8 8 3 8 9 0 9 5 0 7 1 9 0\n",
            " 2 2 8 7 2 7 1 9 0 0 0 0 3 1 7 2 1 9 6 1 0 0 3 4 7 1 4 4 9 5 3 2 0 1 1 5 8\n",
            " 2 5 1 7 3 3 6 4 2 2 9 7 3 6 1 6 2 4 5 2 7 4 8 6 3 7 8 0 2 6 2 0 0 1 2 2 2\n",
            " 7 8 9 7 7 0 7 8 8 4 2 2 7 0 5 5 7 7 8 2 8 0 0 1 7 1 8 3 6 4 6 7 8 3 5 7 2\n",
            " 9 5 0 4 1 9 1 2 6 9 6 3 8 4 5 9 0 3 5 5 5 8 0 8 1 4 6 6 5 6 9 8 0 5 1 7 4\n",
            " 4 9 1 7 2 0 7 8 3 6 7 4 9 3 2 8 1 5 6 2 2 7 4 1 7 5 7 5 9 6 1 2 2 5 4 0 5\n",
            " 9 4 5 9 2 2 6 1 7 9 6 1 1 6 7 8 9 2 3 9 2 0 0 4 9 0 1 9 5 8 2 0 0 0 2 8 8\n",
            " 9 9 6 0 7 2]\n"
          ]
        }
      ],
      "source": [
        "predicted = svc.predict(X_test)\n",
        "print(predicted)"
      ]
    },
    {
      "cell_type": "code",
      "execution_count": 20,
      "id": "0d826dde-11aa-454c-993d-ed76c05884d8",
      "metadata": {
        "colab": {
          "base_uri": "https://localhost:8080/",
          "height": 236
        },
        "id": "0d826dde-11aa-454c-993d-ed76c05884d8",
        "outputId": "38087630-29d1-4b75-f0f9-089078b45564"
      },
      "outputs": [
        {
          "data": {
            "image/png": "[encoded data removed]",
            "text/plain": [
              "<Figure size 1000x1000 with 5 Axes>"
            ]
          },
          "metadata": {},
          "output_type": "display_data"
        }
      ],
      "source": [
        "_, axes = plt.subplots(nrows=1, ncols=5, figsize=(10, 10))\n",
        "for ax, image, prediction, actual in zip(axes, X_test[0:5], predicted[0:5], y_test[0:5]):\n",
        "    # ax.set_axis_off()\n",
        "    image = image.reshape(8, 8)\n",
        "    ax.imshow(image, cmap=plt.cm.gray_r, interpolation=\"nearest\")\n",
        "    ax.set_title(f\"Prediction: {prediction}\")\n",
        "    ax.set_xlabel(f\"Actual: {actual}\")"
      ]
    },
    {
      "cell_type": "code",
      "execution_count": 21,
      "id": "517c6ddd-3da0-4c1b-becd-4067d5c01972",
      "metadata": {
        "colab": {
          "base_uri": "https://localhost:8080/",
          "height": 1000
        },
        "id": "517c6ddd-3da0-4c1b-becd-4067d5c01972",
        "outputId": "062125c2-c02f-4914-d273-7aad082ed3d0"
      },
      "outputs": [
        {
          "data": {
            "image/png": "[encoded data removed]",
            "text/plain": [
              "<Figure size 1000x1000 with 5 Axes>"
            ]
          },
          "metadata": {},
          "output_type": "display_data"
        },
        {
          "data": {
            "image/png": "[encoded data removed]",
            "text/plain": [
              "<Figure size 1000x1000 with 5 Axes>"
            ]
          },
          "metadata": {},
          "output_type": "display_data"
        },
        {
          "data": {
            "image/png": "[encoded data removed]",
            "text/plain": [
              "<Figure size 1000x1000 with 5 Axes>"
            ]
          },
          "metadata": {},
          "output_type": "display_data"
        },
        {
          "data": {
            "image/png": "[encoded data removed]",
            "text/plain": [
              "<Figure size 1000x1000 with 5 Axes>"
            ]
          },
          "metadata": {},
          "output_type": "display_data"
        },
        {
          "data": {
            "image/png": "[encoded data removed]",
            "text/plain": [
              "<Figure size 1000x1000 with 5 Axes>"
            ]
          },
          "metadata": {},
          "output_type": "display_data"
        }
      ],
      "source": [
        "for i in np.arange(0, 25, 5):\n",
        "    _, axes = plt.subplots(nrows=1, ncols=5, figsize=(10, 10))\n",
        "    for ax, image, prediction, actual in zip(axes, X_test[(i):(i+5)], predicted[(i):(i+5)], y_test[(i):(i+5)]):\n",
        "        # ax.set_axis_off()\n",
        "        image = image.reshape(8, 8)\n",
        "        ax.imshow(image, cmap=plt.cm.gray_r, interpolation=\"nearest\")\n",
        "        ax.set_title(f\"Prediction: {prediction}\")\n",
        "        ax.set_xlabel(f\"Actual: {actual}\")"
      ]
    },
    {
      "cell_type": "markdown",
      "id": "XJNy5cDQo4z6",
      "metadata": {
        "id": "XJNy5cDQo4z6"
      },
      "source": [
        "## Training a basic Keras Neural Network"
      ]
    },
    {
      "cell_type": "code",
      "execution_count": 22,
      "id": "DOUjC3J16G9S",
      "metadata": {
        "id": "DOUjC3J16G9S"
      },
      "outputs": [],
      "source": [
        "from sklearn.model_selection import train_test_split as tts"
      ]
    },
    {
      "cell_type": "code",
      "execution_count": 23,
      "id": "3CdktMBu_g4s",
      "metadata": {
        "id": "3CdktMBu_g4s"
      },
      "outputs": [],
      "source": [
        "import tensorflow as tf\n",
        "\n",
        "# Load the digits dataset\n",
        "digits = datasets.load_digits()\n",
        "y = digits.target\n",
        "\n",
        "# Reshape the input data to fit the expected input shape of the Conv2D layer\n",
        "X = digits.images.reshape(-1, 8, 8, 1)  # Assuming the original image size is 8x8\n",
        "\n",
        "# Normalize the input data\n",
        "X = X / 16.0  # Since pixel values range from 0 to 16\n",
        "\n",
        "# Split the data into training and testing sets\n",
        "X_train, X_test, y_train, y_test = tts(X, y, test_size=0.2, random_state=42)\n"
      ]
    },
    {
      "cell_type": "code",
      "execution_count": 24,
      "id": "_wWq5Ex4LIlQ",
      "metadata": {
        "colab": {
          "base_uri": "https://localhost:8080/"
        },
        "id": "_wWq5Ex4LIlQ",
        "outputId": "840f4051-4274-427f-dc76-ed0096d4bf10"
      },
      "outputs": [
        {
          "data": {
            "text/plain": [
              "(1437, 8, 8, 1)"
            ]
          },
          "execution_count": 24,
          "metadata": {},
          "output_type": "execute_result"
        }
      ],
      "source": [
        "X_train.shape"
      ]
    },
    {
      "cell_type": "code",
      "execution_count": 25,
      "id": "PPKdhBbFyUlg",
      "metadata": {
        "colab": {
          "base_uri": "https://localhost:8080/"
        },
        "id": "PPKdhBbFyUlg",
        "outputId": "17eb949a-0240-49c8-8886-de9da07ac66e"
      },
      "outputs": [
        {
          "name": "stdout",
          "output_type": "stream",
          "text": [
            "\n",
            "MODEL TRAINING:\n",
            "Epoch 1/38\n",
            "45/45 [==============================] - 1s 2ms/step - loss: 1.9411 - accuracy: 0.5017\n",
            "Epoch 2/38\n",
            "45/45 [==============================] - 0s 2ms/step - loss: 1.1379 - accuracy: 0.8559\n",
            "Epoch 3/38\n",
            "45/45 [==============================] - 0s 2ms/step - loss: 0.6643 - accuracy: 0.9047\n",
            "Epoch 4/38\n",
            "45/45 [==============================] - 0s 2ms/step - loss: 0.4471 - accuracy: 0.9269\n",
            "Epoch 5/38\n",
            "45/45 [==============================] - 0s 2ms/step - loss: 0.3396 - accuracy: 0.9408\n",
            "Epoch 6/38\n",
            "45/45 [==============================] - 0s 2ms/step - loss: 0.2758 - accuracy: 0.9513\n",
            "Epoch 7/38\n",
            "45/45 [==============================] - 0s 2ms/step - loss: 0.2364 - accuracy: 0.9576\n",
            "Epoch 8/38\n",
            "45/45 [==============================] - 0s 2ms/step - loss: 0.2070 - accuracy: 0.9624\n",
            "Epoch 9/38\n",
            "45/45 [==============================] - 0s 3ms/step - loss: 0.1828 - accuracy: 0.9701\n",
            "Epoch 10/38\n",
            "45/45 [==============================] - 0s 2ms/step - loss: 0.1647 - accuracy: 0.9687\n",
            "Epoch 11/38\n",
            "45/45 [==============================] - 0s 2ms/step - loss: 0.1506 - accuracy: 0.9708\n",
            "Epoch 12/38\n",
            "45/45 [==============================] - 0s 2ms/step - loss: 0.1384 - accuracy: 0.9715\n",
            "Epoch 13/38\n",
            "45/45 [==============================] - 0s 3ms/step - loss: 0.1269 - accuracy: 0.9763\n",
            "Epoch 14/38\n",
            "45/45 [==============================] - 0s 2ms/step - loss: 0.1166 - accuracy: 0.9826\n",
            "Epoch 15/38\n",
            "45/45 [==============================] - 0s 2ms/step - loss: 0.1086 - accuracy: 0.9784\n",
            "Epoch 16/38\n",
            "45/45 [==============================] - 0s 2ms/step - loss: 0.1049 - accuracy: 0.9819\n",
            "Epoch 17/38\n",
            "45/45 [==============================] - 0s 2ms/step - loss: 0.0939 - accuracy: 0.9833\n",
            "Epoch 18/38\n",
            "45/45 [==============================] - 0s 2ms/step - loss: 0.0902 - accuracy: 0.9847\n",
            "Epoch 19/38\n",
            "45/45 [==============================] - 0s 2ms/step - loss: 0.0845 - accuracy: 0.9847\n",
            "Epoch 20/38\n",
            "45/45 [==============================] - 0s 2ms/step - loss: 0.0805 - accuracy: 0.9854\n",
            "Epoch 21/38\n",
            "45/45 [==============================] - 0s 2ms/step - loss: 0.0757 - accuracy: 0.9882\n",
            "Epoch 22/38\n",
            "45/45 [==============================] - 0s 2ms/step - loss: 0.0717 - accuracy: 0.9854\n",
            "Epoch 23/38\n",
            "45/45 [==============================] - 0s 2ms/step - loss: 0.0675 - accuracy: 0.9882\n",
            "Epoch 24/38\n",
            "45/45 [==============================] - 0s 2ms/step - loss: 0.0636 - accuracy: 0.9896\n",
            "Epoch 25/38\n",
            "45/45 [==============================] - 0s 2ms/step - loss: 0.0597 - accuracy: 0.9916\n",
            "Epoch 26/38\n",
            "45/45 [==============================] - 0s 2ms/step - loss: 0.0568 - accuracy: 0.9903\n",
            "Epoch 27/38\n",
            "45/45 [==============================] - 0s 2ms/step - loss: 0.0552 - accuracy: 0.9910\n",
            "Epoch 28/38\n",
            "45/45 [==============================] - 0s 2ms/step - loss: 0.0532 - accuracy: 0.9903\n",
            "Epoch 29/38\n",
            "45/45 [==============================] - 0s 2ms/step - loss: 0.0489 - accuracy: 0.9930\n",
            "Epoch 30/38\n",
            "45/45 [==============================] - 0s 2ms/step - loss: 0.0465 - accuracy: 0.9951\n",
            "Epoch 31/38\n",
            "45/45 [==============================] - 0s 2ms/step - loss: 0.0442 - accuracy: 0.9944\n",
            "Epoch 32/38\n",
            "45/45 [==============================] - 0s 2ms/step - loss: 0.0431 - accuracy: 0.9944\n",
            "Epoch 33/38\n",
            "45/45 [==============================] - 0s 3ms/step - loss: 0.0395 - accuracy: 0.9958\n",
            "Epoch 34/38\n",
            "45/45 [==============================] - 0s 2ms/step - loss: 0.0385 - accuracy: 0.9965\n",
            "Epoch 35/38\n",
            "45/45 [==============================] - 0s 2ms/step - loss: 0.0361 - accuracy: 0.9958\n",
            "Epoch 36/38\n",
            "45/45 [==============================] - 0s 2ms/step - loss: 0.0349 - accuracy: 0.9965\n",
            "Epoch 37/38\n",
            "45/45 [==============================] - 0s 2ms/step - loss: 0.0329 - accuracy: 0.9972\n",
            "Epoch 38/38\n",
            "45/45 [==============================] - 0s 2ms/step - loss: 0.0321 - accuracy: 0.9965\n",
            "\n",
            "MODEL EVALUATION:\n",
            "12/12 [==============================] - 0s 2ms/step - loss: 0.0900 - accuracy: 0.9750\n"
          ]
        }
      ],
      "source": [
        "model = tf.keras.models.Sequential([\n",
        "  tf.keras.layers.Flatten(),\n",
        "  tf.keras.layers.Dense(128, activation=tf.nn.relu),\n",
        "  tf.keras.layers.Dense(10, activation=tf.nn.softmax)\n",
        "])\n",
        "\n",
        "# Setup training parameters\n",
        "model.compile(optimizer='adam', loss='sparse_categorical_crossentropy', metrics=['accuracy'])\n",
        "\n",
        "# Train the model\n",
        "print(f'\\nMODEL TRAINING:')\n",
        "model.fit(X_train, y_train,epochs=38)\n",
        "\n",
        "# Evaluate on the test set\n",
        "print(f'\\nMODEL EVALUATION:')\n",
        "test_loss = model.evaluate(X_test, y_test)"
      ]
    },
    {
      "cell_type": "markdown",
      "id": "28I9Nz7kpUd2",
      "metadata": {
        "id": "28I9Nz7kpUd2"
      },
      "source": [
        "## Using a convolutional neural network"
      ]
    },
    {
      "cell_type": "code",
      "execution_count": 26,
      "id": "mi6fliPsy6xA",
      "metadata": {
        "colab": {
          "base_uri": "https://localhost:8080/"
        },
        "id": "mi6fliPsy6xA",
        "outputId": "2143c7bd-563a-4183-d9a2-086b0f1539a6"
      },
      "outputs": [
        {
          "name": "stdout",
          "output_type": "stream",
          "text": [
            "Model: \"sequential_1\"\n",
            "_________________________________________________________________\n",
            " Layer (type)                Output Shape              Param #   \n",
            "=================================================================\n",
            " conv2d (Conv2D)             (None, 6, 6, 32)          320       \n",
            "                                                                 \n",
            " max_pooling2d (MaxPooling2  (None, 3, 3, 32)          0         \n",
            " D)                                                              \n",
            "                                                                 \n",
            " flatten_1 (Flatten)         (None, 288)               0         \n",
            "                                                                 \n",
            " dense_2 (Dense)             (None, 128)               36992     \n",
            "                                                                 \n",
            " dense_3 (Dense)             (None, 10)                1290      \n",
            "                                                                 \n",
            "=================================================================\n",
            "Total params: 38602 (150.79 KB)\n",
            "Trainable params: 38602 (150.79 KB)\n",
            "Non-trainable params: 0 (0.00 Byte)\n",
            "_________________________________________________________________\n",
            "\n",
            "MODEL TRAINING:\n",
            "Epoch 1/38\n",
            "45/45 [==============================] - 1s 3ms/step - loss: 1.9847 - accuracy: 0.5031\n",
            "Epoch 2/38\n",
            "45/45 [==============================] - 0s 4ms/step - loss: 0.9931 - accuracy: 0.8573\n",
            "Epoch 3/38\n",
            "45/45 [==============================] - 0s 4ms/step - loss: 0.4143 - accuracy: 0.9207\n",
            "Epoch 4/38\n",
            "45/45 [==============================] - 0s 4ms/step - loss: 0.2704 - accuracy: 0.9402\n",
            "Epoch 5/38\n",
            "45/45 [==============================] - 0s 4ms/step - loss: 0.1960 - accuracy: 0.9548\n",
            "Epoch 6/38\n",
            "45/45 [==============================] - 0s 3ms/step - loss: 0.1571 - accuracy: 0.9631\n",
            "Epoch 7/38\n",
            "45/45 [==============================] - 0s 4ms/step - loss: 0.1326 - accuracy: 0.9715\n",
            "Epoch 8/38\n",
            "45/45 [==============================] - 0s 4ms/step - loss: 0.1186 - accuracy: 0.9708\n",
            "Epoch 9/38\n",
            "45/45 [==============================] - 0s 3ms/step - loss: 0.0993 - accuracy: 0.9743\n",
            "Epoch 10/38\n",
            "45/45 [==============================] - 0s 4ms/step - loss: 0.0908 - accuracy: 0.9763\n",
            "Epoch 11/38\n",
            "45/45 [==============================] - 0s 4ms/step - loss: 0.0778 - accuracy: 0.9847\n",
            "Epoch 12/38\n",
            "45/45 [==============================] - 0s 4ms/step - loss: 0.0686 - accuracy: 0.9861\n",
            "Epoch 13/38\n",
            "45/45 [==============================] - 0s 4ms/step - loss: 0.0595 - accuracy: 0.9896\n",
            "Epoch 14/38\n",
            "45/45 [==============================] - 0s 4ms/step - loss: 0.0649 - accuracy: 0.9847\n",
            "Epoch 15/38\n",
            "45/45 [==============================] - 0s 4ms/step - loss: 0.0505 - accuracy: 0.9896\n",
            "Epoch 16/38\n",
            "45/45 [==============================] - 0s 4ms/step - loss: 0.0439 - accuracy: 0.9930\n",
            "Epoch 17/38\n",
            "45/45 [==============================] - 0s 4ms/step - loss: 0.0431 - accuracy: 0.9889\n",
            "Epoch 18/38\n",
            "45/45 [==============================] - 0s 3ms/step - loss: 0.0364 - accuracy: 0.9951\n",
            "Epoch 19/38\n",
            "45/45 [==============================] - 0s 4ms/step - loss: 0.0332 - accuracy: 0.9965\n",
            "Epoch 20/38\n",
            "45/45 [==============================] - 0s 4ms/step - loss: 0.0320 - accuracy: 0.9951\n",
            "Epoch 21/38\n",
            "45/45 [==============================] - 0s 3ms/step - loss: 0.0298 - accuracy: 0.9944\n",
            "Epoch 22/38\n",
            "45/45 [==============================] - 0s 6ms/step - loss: 0.0224 - accuracy: 0.9986\n",
            "Epoch 23/38\n",
            "45/45 [==============================] - 0s 5ms/step - loss: 0.0235 - accuracy: 0.9958\n",
            "Epoch 24/38\n",
            "45/45 [==============================] - 0s 5ms/step - loss: 0.0213 - accuracy: 0.9972\n",
            "Epoch 25/38\n",
            "45/45 [==============================] - 0s 5ms/step - loss: 0.0202 - accuracy: 0.9972\n",
            "Epoch 26/38\n",
            "45/45 [==============================] - 0s 5ms/step - loss: 0.0173 - accuracy: 0.9979\n",
            "Epoch 27/38\n",
            "45/45 [==============================] - 0s 5ms/step - loss: 0.0198 - accuracy: 0.9958\n",
            "Epoch 28/38\n",
            "45/45 [==============================] - 0s 5ms/step - loss: 0.0145 - accuracy: 0.9993\n",
            "Epoch 29/38\n",
            "45/45 [==============================] - 0s 5ms/step - loss: 0.0125 - accuracy: 1.0000\n",
            "Epoch 30/38\n",
            "45/45 [==============================] - 0s 5ms/step - loss: 0.0140 - accuracy: 0.9993\n",
            "Epoch 31/38\n",
            "45/45 [==============================] - 0s 6ms/step - loss: 0.0156 - accuracy: 0.9972\n",
            "Epoch 32/38\n",
            "45/45 [==============================] - 0s 5ms/step - loss: 0.0115 - accuracy: 0.9986\n",
            "Epoch 33/38\n",
            "45/45 [==============================] - 0s 6ms/step - loss: 0.0112 - accuracy: 0.9979\n",
            "Epoch 34/38\n",
            "45/45 [==============================] - 0s 6ms/step - loss: 0.0103 - accuracy: 0.9986\n",
            "Epoch 35/38\n",
            "45/45 [==============================] - 0s 5ms/step - loss: 0.0088 - accuracy: 1.0000\n",
            "Epoch 36/38\n",
            "45/45 [==============================] - 0s 5ms/step - loss: 0.0112 - accuracy: 0.9993\n",
            "Epoch 37/38\n",
            "45/45 [==============================] - 0s 4ms/step - loss: 0.0079 - accuracy: 0.9993\n",
            "Epoch 38/38\n",
            "45/45 [==============================] - 0s 4ms/step - loss: 0.0070 - accuracy: 1.0000\n",
            "\n",
            "MODEL EVALUATION:\n",
            "12/12 [==============================] - 0s 11ms/step - loss: 0.0523 - accuracy: 0.9806\n"
          ]
        }
      ],
      "source": [
        "# Define the model\n",
        "model = tf.keras.models.Sequential([\n",
        "\n",
        "  # Add convolutions and max pooling\n",
        "  tf.keras.layers.Conv2D(32, (3,3), activation='relu', input_shape=(8, 8, 1)),\n",
        "  tf.keras.layers.MaxPooling2D(2, 2),\n",
        "\n",
        "  # Add the same layers as before\n",
        "  tf.keras.layers.Flatten(),\n",
        "  tf.keras.layers.Dense(128, activation='relu'),\n",
        "  tf.keras.layers.Dense(10, activation='softmax')\n",
        "])\n",
        "\n",
        "# Print the model summary\n",
        "model.summary()\n",
        "\n",
        "# Use same settings\n",
        "model.compile(optimizer='adam', loss='sparse_categorical_crossentropy', metrics=['accuracy'])\n",
        "\n",
        "# Train the model\n",
        "print(f'\\nMODEL TRAINING:')\n",
        "model.fit(X_train, y_train, epochs=38)\n",
        "\n",
        "# Evaluate on the test set\n",
        "print(f'\\nMODEL EVALUATION:')\n",
        "test_loss = model.evaluate(X_test, y_test)\n"
      ]
    },
    {
      "cell_type": "markdown",
      "id": "JzyRs6g5pchP",
      "metadata": {
        "id": "JzyRs6g5pchP"
      },
      "source": [
        "## The final accuracy scores for the convolutional neural network are higher on average than the basic neural network. However, the grid search svm yielded *slightly* higher scores than the convolutional neural network because this is just a simple task. In more complicated examples, one can see the effectivness of neural networks on full display"
      ]
    },
    {
      "cell_type": "markdown",
      "id": "bBZkAtsAqCuS",
      "metadata": {
        "id": "bBZkAtsAqCuS"
      },
      "source": [
        "## Let's create some functions and callbacks to simplify things."
      ]
    },
    {
      "cell_type": "code",
      "execution_count": 27,
      "id": "70_SWr1GqKc0",
      "metadata": {
        "id": "70_SWr1GqKc0"
      },
      "outputs": [],
      "source": [
        "def reshape_and_normalize(X, y):\n",
        "\n",
        "    digits = datasets.load_digits()\n",
        "\n",
        "    y = digits.target\n",
        "\n",
        "    # Reshape the images to add an extra dimension\n",
        "    X = X.reshape(-1, 8, 8, 1)  # Assuming the original image size is 8x8\n",
        "\n",
        "    # Normalize the input data\n",
        "    X = X / 16.0  # Since pixel values range from 0 to 16\n",
        "\n",
        "    # Split the data into training and testing sets\n",
        "    X_train, X_test, y_train, y_test = tts(X, y, test_size=0.2, random_state=42)\n",
        "\n",
        "    return X_train, X_test, y_train, y_test"
      ]
    },
    {
      "cell_type": "code",
      "execution_count": 28,
      "id": "tIIeNaVArSAU",
      "metadata": {
        "colab": {
          "base_uri": "https://localhost:8080/"
        },
        "id": "tIIeNaVArSAU",
        "outputId": "dfead9dc-618c-4801-c9a0-61fdf4a46520"
      },
      "outputs": [
        {
          "name": "stdout",
          "output_type": "stream",
          "text": [
            "Maximum pixel value after normalization: 0.0625\n",
            "\n",
            "Shape of training set after reshaping: (1437, 8, 8, 1)\n",
            "\n",
            "Shape of one image after reshaping: (8, 8, 1)\n"
          ]
        }
      ],
      "source": [
        "X_train, X_test, y_train, y_test = reshape_and_normalize(X, y)\n",
        "\n",
        "print(f\"Maximum pixel value after normalization: {np.max(X_train)}\\n\")\n",
        "print(f\"Shape of training set after reshaping: {X_train.shape}\\n\")\n",
        "print(f\"Shape of one image after reshaping: {X_train[0].shape}\")"
      ]
    },
    {
      "cell_type": "code",
      "execution_count": 29,
      "id": "lffvgSL2rsvz",
      "metadata": {
        "id": "lffvgSL2rsvz"
      },
      "outputs": [],
      "source": [
        "class myCallback(tf.keras.callbacks.Callback):\n",
        "        # Define the correct function signature for on_epoch_end\n",
        "        def on_epoch_end(self, epoch, logs={}):\n",
        "            # if logs.get('accuracy') > 0.95:\n",
        "            if logs.get('accuracy') > 0.95:\n",
        "\n",
        "                print(\"\\nReached 95% accuracy so cancelling training!\")\n",
        "\n",
        "                # Stop training once the above condition is met\n",
        "                self.model.stop_training = True"
      ]
    },
    {
      "cell_type": "code",
      "execution_count": 30,
      "id": "juILAcjisz99",
      "metadata": {
        "id": "juILAcjisz99"
      },
      "outputs": [],
      "source": [
        "def convolutional_model():\n",
        "\n",
        "    #Define the model\n",
        "    model = tf.keras.models.Sequential([\n",
        "\n",
        "    # Add convolutions and max pooling\n",
        "    tf.keras.layers.Conv2D(32, (3,3), activation='relu', input_shape=(8, 8, 1)),\n",
        "    tf.keras.layers.MaxPooling2D(2, 2),\n",
        "\n",
        "    # Add the same layers as before\n",
        "    tf.keras.layers.Flatten(),\n",
        "    tf.keras.layers.Dense(128, activation='relu'),\n",
        "    tf.keras.layers.Dense(10, activation='softmax')\n",
        "    ])\n",
        "\n",
        "\n",
        "    # Use same settings\n",
        "    model.compile(optimizer='adam', loss='sparse_categorical_crossentropy', metrics=['accuracy'])\n",
        "\n",
        "\n",
        "    return model"
      ]
    },
    {
      "cell_type": "code",
      "execution_count": 31,
      "id": "EZjT_lHRtT1_",
      "metadata": {
        "colab": {
          "base_uri": "https://localhost:8080/"
        },
        "id": "EZjT_lHRtT1_",
        "outputId": "ea20ee56-3e27-428f-d5cd-ddf97e8c0ad0"
      },
      "outputs": [
        {
          "name": "stdout",
          "output_type": "stream",
          "text": [
            "Epoch 1/38\n",
            "45/45 [==============================] - 1s 4ms/step - loss: 2.2809 - accuracy: 0.2582\n",
            "Epoch 2/38\n",
            "45/45 [==============================] - 0s 4ms/step - loss: 2.1497 - accuracy: 0.6110\n",
            "Epoch 3/38\n",
            "45/45 [==============================] - 0s 4ms/step - loss: 1.8076 - accuracy: 0.6500\n",
            "Epoch 4/38\n",
            "45/45 [==============================] - 0s 3ms/step - loss: 1.3282 - accuracy: 0.7613\n",
            "Epoch 5/38\n",
            "45/45 [==============================] - 0s 3ms/step - loss: 0.9374 - accuracy: 0.8267\n",
            "Epoch 6/38\n",
            "45/45 [==============================] - 0s 3ms/step - loss: 0.7040 - accuracy: 0.8559\n",
            "Epoch 7/38\n",
            "45/45 [==============================] - 0s 4ms/step - loss: 0.5634 - accuracy: 0.8831\n",
            "Epoch 8/38\n",
            "45/45 [==============================] - 0s 4ms/step - loss: 0.4713 - accuracy: 0.8887\n",
            "Epoch 9/38\n",
            "45/45 [==============================] - 0s 4ms/step - loss: 0.4187 - accuracy: 0.8942\n",
            "Epoch 10/38\n",
            "45/45 [==============================] - 0s 3ms/step - loss: 0.3631 - accuracy: 0.9061\n",
            "Epoch 11/38\n",
            "45/45 [==============================] - 0s 3ms/step - loss: 0.3315 - accuracy: 0.9221\n",
            "Epoch 12/38\n",
            "45/45 [==============================] - 0s 3ms/step - loss: 0.2997 - accuracy: 0.9165\n",
            "Epoch 13/38\n",
            "45/45 [==============================] - 0s 4ms/step - loss: 0.2744 - accuracy: 0.9318\n",
            "Epoch 14/38\n",
            "45/45 [==============================] - 0s 3ms/step - loss: 0.2632 - accuracy: 0.9339\n",
            "Epoch 15/38\n",
            "45/45 [==============================] - 0s 4ms/step - loss: 0.2484 - accuracy: 0.9346\n",
            "Epoch 16/38\n",
            "45/45 [==============================] - 0s 4ms/step - loss: 0.2255 - accuracy: 0.9429\n",
            "Epoch 17/38\n",
            "45/45 [==============================] - 0s 5ms/step - loss: 0.2146 - accuracy: 0.9415\n",
            "Epoch 18/38\n",
            "45/45 [==============================] - ETA: 0s - loss: 0.1953 - accuracy: 0.9513\n",
            "Reached 95% accuracy so cancelling training!\n",
            "45/45 [==============================] - 0s 6ms/step - loss: 0.1953 - accuracy: 0.9513\n"
          ]
        }
      ],
      "source": [
        "model = convolutional_model()\n",
        "\n",
        "# Instantiate the callback class\n",
        "callbacks = myCallback()\n",
        "\n",
        "# Train the model\n",
        "history = model.fit(X_train, y_train, epochs=38, callbacks=[callbacks])"
      ]
    },
    {
      "cell_type": "markdown",
      "id": "-WtT8AJkM6G7",
      "metadata": {
        "id": "-WtT8AJkM6G7"
      },
      "source": [
        "## We've been using the 'adam' optimizer, but there is some debate on which optimizer is the best. The 'adam' optimizer is agreed to be the best starting point, but in certain situations other optimizers like RMSprop can beat it to the global minimum. Let's see which one excels here by taking a look at how long (how many epochs) each optimizer takes to reach 98% accuracy."
      ]
    },
    {
      "cell_type": "code",
      "execution_count": 32,
      "id": "POyAlnqfP2nK",
      "metadata": {
        "id": "POyAlnqfP2nK"
      },
      "outputs": [],
      "source": [
        "class myCallback(tf.keras.callbacks.Callback):\n",
        "        # Define the correct function signature for on_epoch_end\n",
        "        def on_epoch_end(self, epoch, logs={}):\n",
        "            # if logs.get('accuracy') > 0.95:\n",
        "            if logs.get('accuracy') > 0.98:\n",
        "\n",
        "                print(\"\\nReached 98% accuracy so cancelling training!\")\n",
        "\n",
        "                # Stop training once the above condition is met\n",
        "                self.model.stop_training = True"
      ]
    },
    {
      "cell_type": "code",
      "execution_count": 44,
      "id": "we3SfMnBOZlR",
      "metadata": {
        "colab": {
          "base_uri": "https://localhost:8080/"
        },
        "id": "we3SfMnBOZlR",
        "outputId": "0a2fcccb-16f4-495b-821d-c9aa63f84bc3"
      },
      "outputs": [
        {
          "name": "stdout",
          "output_type": "stream",
          "text": [
            "Epoch 1/100\n",
            "45/45 [==============================] - 1s 5ms/step - loss: 2.3018 - accuracy: 0.1037\n",
            "Epoch 2/100\n",
            "45/45 [==============================] - 0s 6ms/step - loss: 2.3005 - accuracy: 0.1037\n",
            "Epoch 3/100\n",
            "45/45 [==============================] - 0s 5ms/step - loss: 2.2999 - accuracy: 0.0988\n",
            "Epoch 4/100\n",
            "45/45 [==============================] - 0s 5ms/step - loss: 2.2995 - accuracy: 0.1065\n",
            "Epoch 5/100\n",
            "45/45 [==============================] - 0s 5ms/step - loss: 2.2992 - accuracy: 0.1211\n",
            "Epoch 6/100\n",
            "45/45 [==============================] - 0s 6ms/step - loss: 2.2987 - accuracy: 0.1371\n",
            "Epoch 7/100\n",
            "45/45 [==============================] - 0s 5ms/step - loss: 2.2983 - accuracy: 0.1587\n",
            "Epoch 8/100\n",
            "45/45 [==============================] - 0s 6ms/step - loss: 2.2980 - accuracy: 0.1267\n",
            "Epoch 9/100\n",
            "45/45 [==============================] - 0s 5ms/step - loss: 2.2978 - accuracy: 0.1204\n",
            "Epoch 10/100\n",
            "45/45 [==============================] - 0s 5ms/step - loss: 2.2976 - accuracy: 0.1733\n",
            "Epoch 11/100\n",
            "45/45 [==============================] - 0s 5ms/step - loss: 2.2974 - accuracy: 0.1287\n",
            "Epoch 12/100\n",
            "45/45 [==============================] - 0s 6ms/step - loss: 2.2971 - accuracy: 0.1287\n",
            "Epoch 13/100\n",
            "45/45 [==============================] - 0s 5ms/step - loss: 2.2969 - accuracy: 0.1218\n",
            "Epoch 14/100\n",
            "45/45 [==============================] - 0s 7ms/step - loss: 2.2968 - accuracy: 0.1120\n",
            "Epoch 15/100\n",
            "45/45 [==============================] - 0s 7ms/step - loss: 2.2966 - accuracy: 0.1106\n",
            "Epoch 16/100\n",
            "45/45 [==============================] - 0s 5ms/step - loss: 2.2965 - accuracy: 0.1072\n",
            "Epoch 17/100\n",
            "45/45 [==============================] - 0s 5ms/step - loss: 2.2964 - accuracy: 0.1093\n",
            "Epoch 18/100\n",
            "45/45 [==============================] - 0s 5ms/step - loss: 2.2962 - accuracy: 0.1079\n",
            "Epoch 19/100\n",
            "45/45 [==============================] - 0s 5ms/step - loss: 2.2960 - accuracy: 0.1072\n",
            "Epoch 20/100\n",
            "45/45 [==============================] - 0s 5ms/step - loss: 2.2959 - accuracy: 0.1197\n",
            "Epoch 21/100\n",
            "45/45 [==============================] - 0s 5ms/step - loss: 2.2957 - accuracy: 0.1336\n",
            "Epoch 22/100\n",
            "45/45 [==============================] - 0s 5ms/step - loss: 2.2956 - accuracy: 0.1072\n",
            "Epoch 23/100\n",
            "45/45 [==============================] - 0s 5ms/step - loss: 2.2955 - accuracy: 0.1079\n",
            "Epoch 24/100\n",
            "45/45 [==============================] - 0s 5ms/step - loss: 2.2953 - accuracy: 0.1072\n",
            "Epoch 25/100\n",
            "45/45 [==============================] - 0s 5ms/step - loss: 2.2952 - accuracy: 0.1086\n",
            "Epoch 26/100\n",
            "45/45 [==============================] - 0s 6ms/step - loss: 2.2950 - accuracy: 0.1072\n",
            "Epoch 27/100\n",
            "45/45 [==============================] - 0s 5ms/step - loss: 2.2948 - accuracy: 0.1072\n",
            "Epoch 28/100\n",
            "45/45 [==============================] - 0s 6ms/step - loss: 2.2947 - accuracy: 0.1072\n",
            "Epoch 29/100\n",
            "45/45 [==============================] - 0s 5ms/step - loss: 2.2945 - accuracy: 0.1072\n",
            "Epoch 30/100\n",
            "45/45 [==============================] - 0s 3ms/step - loss: 2.2943 - accuracy: 0.1072\n",
            "Epoch 31/100\n",
            "45/45 [==============================] - 0s 4ms/step - loss: 2.2942 - accuracy: 0.1079\n",
            "Epoch 32/100\n",
            "45/45 [==============================] - 0s 4ms/step - loss: 2.2941 - accuracy: 0.1106\n",
            "Epoch 33/100\n",
            "45/45 [==============================] - 0s 3ms/step - loss: 2.2939 - accuracy: 0.1100\n",
            "Epoch 34/100\n",
            "45/45 [==============================] - 0s 3ms/step - loss: 2.2937 - accuracy: 0.1072\n",
            "Epoch 35/100\n",
            "45/45 [==============================] - 0s 3ms/step - loss: 2.2936 - accuracy: 0.1100\n",
            "Epoch 36/100\n",
            "45/45 [==============================] - 0s 3ms/step - loss: 2.2934 - accuracy: 0.1072\n",
            "Epoch 37/100\n",
            "45/45 [==============================] - 0s 3ms/step - loss: 2.2933 - accuracy: 0.1079\n",
            "Epoch 38/100\n",
            "45/45 [==============================] - 0s 3ms/step - loss: 2.2930 - accuracy: 0.1113\n",
            "Epoch 39/100\n",
            "45/45 [==============================] - 0s 3ms/step - loss: 2.2929 - accuracy: 0.1079\n",
            "Epoch 40/100\n",
            "45/45 [==============================] - 0s 3ms/step - loss: 2.2927 - accuracy: 0.1141\n",
            "Epoch 41/100\n",
            "45/45 [==============================] - 0s 4ms/step - loss: 2.2925 - accuracy: 0.1072\n",
            "Epoch 42/100\n",
            "45/45 [==============================] - 0s 3ms/step - loss: 2.2923 - accuracy: 0.1211\n",
            "Epoch 43/100\n",
            "45/45 [==============================] - 0s 3ms/step - loss: 2.2922 - accuracy: 0.1072\n",
            "Epoch 44/100\n",
            "45/45 [==============================] - 0s 3ms/step - loss: 2.2919 - accuracy: 0.1072\n",
            "Epoch 45/100\n",
            "45/45 [==============================] - 0s 4ms/step - loss: 2.2918 - accuracy: 0.1072\n",
            "Epoch 46/100\n",
            "45/45 [==============================] - 0s 3ms/step - loss: 2.2915 - accuracy: 0.1148\n",
            "Epoch 47/100\n",
            "45/45 [==============================] - 0s 3ms/step - loss: 2.2913 - accuracy: 0.1072\n",
            "Epoch 48/100\n",
            "45/45 [==============================] - 0s 4ms/step - loss: 2.2911 - accuracy: 0.1072\n",
            "Epoch 49/100\n",
            "45/45 [==============================] - 0s 3ms/step - loss: 2.2908 - accuracy: 0.1127\n",
            "Epoch 50/100\n",
            "45/45 [==============================] - 0s 3ms/step - loss: 2.2906 - accuracy: 0.1100\n",
            "Epoch 51/100\n",
            "45/45 [==============================] - 0s 3ms/step - loss: 2.2904 - accuracy: 0.1072\n",
            "Epoch 52/100\n",
            "45/45 [==============================] - 0s 3ms/step - loss: 2.2902 - accuracy: 0.1072\n",
            "Epoch 53/100\n",
            "45/45 [==============================] - 0s 3ms/step - loss: 2.2899 - accuracy: 0.1127\n",
            "Epoch 54/100\n",
            "45/45 [==============================] - 0s 3ms/step - loss: 2.2898 - accuracy: 0.1148\n",
            "Epoch 55/100\n",
            "45/45 [==============================] - 0s 3ms/step - loss: 2.2895 - accuracy: 0.1072\n",
            "Epoch 56/100\n",
            "45/45 [==============================] - 0s 3ms/step - loss: 2.2892 - accuracy: 0.1120\n",
            "Epoch 57/100\n",
            "45/45 [==============================] - 0s 4ms/step - loss: 2.2889 - accuracy: 0.1100\n",
            "Epoch 58/100\n",
            "45/45 [==============================] - 0s 3ms/step - loss: 2.2887 - accuracy: 0.1093\n",
            "Epoch 59/100\n",
            "45/45 [==============================] - 0s 3ms/step - loss: 2.2884 - accuracy: 0.1253\n",
            "Epoch 60/100\n",
            "45/45 [==============================] - 0s 4ms/step - loss: 2.2882 - accuracy: 0.1079\n",
            "Epoch 61/100\n",
            "45/45 [==============================] - 0s 4ms/step - loss: 2.2880 - accuracy: 0.1197\n",
            "Epoch 62/100\n",
            "45/45 [==============================] - 0s 3ms/step - loss: 2.2877 - accuracy: 0.1113\n",
            "Epoch 63/100\n",
            "45/45 [==============================] - 0s 4ms/step - loss: 2.2874 - accuracy: 0.1475\n",
            "Epoch 64/100\n",
            "45/45 [==============================] - 0s 3ms/step - loss: 2.2871 - accuracy: 0.1079\n",
            "Epoch 65/100\n",
            "45/45 [==============================] - 0s 3ms/step - loss: 2.2868 - accuracy: 0.1260\n",
            "Epoch 66/100\n",
            "45/45 [==============================] - 0s 4ms/step - loss: 2.2866 - accuracy: 0.1273\n",
            "Epoch 67/100\n",
            "45/45 [==============================] - 0s 3ms/step - loss: 2.2862 - accuracy: 0.1190\n",
            "Epoch 68/100\n",
            "45/45 [==============================] - 0s 3ms/step - loss: 2.2859 - accuracy: 0.1169\n",
            "Epoch 69/100\n",
            "45/45 [==============================] - 0s 4ms/step - loss: 2.2856 - accuracy: 0.1420\n",
            "Epoch 70/100\n",
            "45/45 [==============================] - 0s 3ms/step - loss: 2.2853 - accuracy: 0.1642\n",
            "Epoch 71/100\n",
            "45/45 [==============================] - 0s 3ms/step - loss: 2.2850 - accuracy: 0.1148\n",
            "Epoch 72/100\n",
            "45/45 [==============================] - 0s 3ms/step - loss: 2.2847 - accuracy: 0.1183\n",
            "Epoch 73/100\n",
            "45/45 [==============================] - 0s 3ms/step - loss: 2.2843 - accuracy: 0.1294\n",
            "Epoch 74/100\n",
            "45/45 [==============================] - 0s 4ms/step - loss: 2.2840 - accuracy: 0.1239\n",
            "Epoch 75/100\n",
            "45/45 [==============================] - 0s 4ms/step - loss: 2.2836 - accuracy: 0.1399\n",
            "Epoch 76/100\n",
            "45/45 [==============================] - 0s 3ms/step - loss: 2.2832 - accuracy: 0.1350\n",
            "Epoch 77/100\n",
            "45/45 [==============================] - 0s 3ms/step - loss: 2.2829 - accuracy: 0.1656\n",
            "Epoch 78/100\n",
            "45/45 [==============================] - 0s 3ms/step - loss: 2.2825 - accuracy: 0.1496\n",
            "Epoch 79/100\n",
            "45/45 [==============================] - 0s 4ms/step - loss: 2.2821 - accuracy: 0.1608\n",
            "Epoch 80/100\n",
            "45/45 [==============================] - 0s 4ms/step - loss: 2.2818 - accuracy: 0.1343\n",
            "Epoch 81/100\n",
            "45/45 [==============================] - 0s 3ms/step - loss: 2.2814 - accuracy: 0.1538\n",
            "Epoch 82/100\n",
            "45/45 [==============================] - 0s 3ms/step - loss: 2.2810 - accuracy: 0.1517\n",
            "Epoch 83/100\n",
            "45/45 [==============================] - 0s 3ms/step - loss: 2.2806 - accuracy: 0.1851\n",
            "Epoch 84/100\n",
            "45/45 [==============================] - 0s 3ms/step - loss: 2.2802 - accuracy: 0.1698\n",
            "Epoch 85/100\n",
            "45/45 [==============================] - 0s 4ms/step - loss: 2.2797 - accuracy: 0.1754\n",
            "Epoch 86/100\n",
            "45/45 [==============================] - 0s 3ms/step - loss: 2.2794 - accuracy: 0.1510\n",
            "Epoch 87/100\n",
            "45/45 [==============================] - 0s 4ms/step - loss: 2.2789 - accuracy: 0.1747\n",
            "Epoch 88/100\n",
            "45/45 [==============================] - 0s 3ms/step - loss: 2.2785 - accuracy: 0.2046\n",
            "Epoch 89/100\n",
            "45/45 [==============================] - 0s 4ms/step - loss: 2.2780 - accuracy: 0.1893\n",
            "Epoch 90/100\n",
            "45/45 [==============================] - 0s 5ms/step - loss: 2.2775 - accuracy: 0.1691\n",
            "Epoch 91/100\n",
            "45/45 [==============================] - 0s 6ms/step - loss: 2.2770 - accuracy: 0.2171\n",
            "Epoch 92/100\n",
            "45/45 [==============================] - 0s 5ms/step - loss: 2.2766 - accuracy: 0.1907\n",
            "Epoch 93/100\n",
            "45/45 [==============================] - 0s 5ms/step - loss: 2.2761 - accuracy: 0.1775\n",
            "Epoch 94/100\n",
            "45/45 [==============================] - 0s 5ms/step - loss: 2.2756 - accuracy: 0.2164\n",
            "Epoch 95/100\n",
            "45/45 [==============================] - 0s 5ms/step - loss: 2.2751 - accuracy: 0.2477\n",
            "Epoch 96/100\n",
            "45/45 [==============================] - 0s 5ms/step - loss: 2.2745 - accuracy: 0.2470\n",
            "Epoch 97/100\n",
            "45/45 [==============================] - 0s 5ms/step - loss: 2.2740 - accuracy: 0.2589\n",
            "Epoch 98/100\n",
            "45/45 [==============================] - 0s 5ms/step - loss: 2.2735 - accuracy: 0.2415\n",
            "Epoch 99/100\n",
            "45/45 [==============================] - 0s 6ms/step - loss: 2.2728 - accuracy: 0.2881\n",
            "Epoch 100/100\n",
            "45/45 [==============================] - 0s 5ms/step - loss: 2.2723 - accuracy: 0.2401\n"
          ]
        }
      ],
      "source": [
        "def convolutional_model_SGD():\n",
        "\n",
        "    #Define the model\n",
        "    model = tf.keras.models.Sequential([\n",
        "\n",
        "    # Add convolutions and max pooling\n",
        "    tf.keras.layers.Conv2D(32, (3,3), activation='relu', input_shape=(8, 8, 1)),\n",
        "    tf.keras.layers.MaxPooling2D(2, 2),\n",
        "\n",
        "    # Add the same layers as before\n",
        "    tf.keras.layers.Flatten(),\n",
        "    tf.keras.layers.Dense(128, activation='relu'),\n",
        "    tf.keras.layers.Dense(10, activation='softmax')\n",
        "    ])\n",
        "\n",
        "\n",
        "    # Use same settings\n",
        "    model.compile(optimizer='SGD', loss='sparse_categorical_crossentropy', metrics=['accuracy'])\n",
        "\n",
        "\n",
        "    return model\n",
        "\n",
        "\n",
        "model = convolutional_model_SGD()\n",
        "\n",
        "# Instantiate the callback class\n",
        "callbacks = myCallback()\n",
        "\n",
        "# Train the model\n",
        "history = model.fit(X_train, y_train, epochs = 100, callbacks=[callbacks])"
      ]
    },
    {
      "cell_type": "markdown",
      "id": "L3NGE6JCfkQ6",
      "metadata": {
        "id": "L3NGE6JCfkQ6"
      },
      "source": [
        "## Wow, even after 100 iterations SGD has not reached even 50% accuracy. Let's try RMSprop"
      ]
    },
    {
      "cell_type": "code",
      "execution_count": 47,
      "id": "U_ngfVcEOv0m",
      "metadata": {
        "colab": {
          "base_uri": "https://localhost:8080/"
        },
        "id": "U_ngfVcEOv0m",
        "outputId": "1191ac73-558a-4089-cec4-6cfab7d697c4"
      },
      "outputs": [
        {
          "name": "stdout",
          "output_type": "stream",
          "text": [
            "Epoch 1/100\n",
            "45/45 [==============================] - 1s 4ms/step - loss: 2.2925 - accuracy: 0.1997\n",
            "Epoch 2/100\n",
            "45/45 [==============================] - 0s 4ms/step - loss: 2.2490 - accuracy: 0.4349\n",
            "Epoch 3/100\n",
            "45/45 [==============================] - 0s 4ms/step - loss: 2.1409 - accuracy: 0.5720\n",
            "Epoch 4/100\n",
            "45/45 [==============================] - 0s 4ms/step - loss: 1.9468 - accuracy: 0.6827\n",
            "Epoch 5/100\n",
            "45/45 [==============================] - 0s 4ms/step - loss: 1.6833 - accuracy: 0.7349\n",
            "Epoch 6/100\n",
            "45/45 [==============================] - 0s 4ms/step - loss: 1.3939 - accuracy: 0.7697\n",
            "Epoch 7/100\n",
            "45/45 [==============================] - 0s 4ms/step - loss: 1.1281 - accuracy: 0.8051\n",
            "Epoch 8/100\n",
            "45/45 [==============================] - 0s 3ms/step - loss: 0.9076 - accuracy: 0.8316\n",
            "Epoch 9/100\n",
            "45/45 [==============================] - 0s 6ms/step - loss: 0.7413 - accuracy: 0.8601\n",
            "Epoch 10/100\n",
            "45/45 [==============================] - 0s 5ms/step - loss: 0.6222 - accuracy: 0.8713\n",
            "Epoch 11/100\n",
            "45/45 [==============================] - 0s 5ms/step - loss: 0.5303 - accuracy: 0.8831\n",
            "Epoch 12/100\n",
            "45/45 [==============================] - 0s 5ms/step - loss: 0.4645 - accuracy: 0.8963\n",
            "Epoch 13/100\n",
            "45/45 [==============================] - 0s 5ms/step - loss: 0.4115 - accuracy: 0.9123\n",
            "Epoch 14/100\n",
            "45/45 [==============================] - 0s 5ms/step - loss: 0.3694 - accuracy: 0.9144\n",
            "Epoch 15/100\n",
            "45/45 [==============================] - 0s 5ms/step - loss: 0.3358 - accuracy: 0.9179\n",
            "Epoch 16/100\n",
            "45/45 [==============================] - 0s 5ms/step - loss: 0.3080 - accuracy: 0.9228\n",
            "Epoch 17/100\n",
            "45/45 [==============================] - 0s 5ms/step - loss: 0.2870 - accuracy: 0.9325\n",
            "Epoch 18/100\n",
            "45/45 [==============================] - 0s 5ms/step - loss: 0.2656 - accuracy: 0.9325\n",
            "Epoch 19/100\n",
            "45/45 [==============================] - 0s 6ms/step - loss: 0.2476 - accuracy: 0.9388\n",
            "Epoch 20/100\n",
            "45/45 [==============================] - 0s 5ms/step - loss: 0.2323 - accuracy: 0.9436\n",
            "Epoch 21/100\n",
            "45/45 [==============================] - 0s 5ms/step - loss: 0.2197 - accuracy: 0.9443\n",
            "Epoch 22/100\n",
            "45/45 [==============================] - 0s 5ms/step - loss: 0.2058 - accuracy: 0.9415\n",
            "Epoch 23/100\n",
            "45/45 [==============================] - 0s 6ms/step - loss: 0.1977 - accuracy: 0.9492\n",
            "Epoch 24/100\n",
            "45/45 [==============================] - 0s 4ms/step - loss: 0.1848 - accuracy: 0.9499\n",
            "Epoch 25/100\n",
            "45/45 [==============================] - 0s 3ms/step - loss: 0.1755 - accuracy: 0.9520\n",
            "Epoch 26/100\n",
            "45/45 [==============================] - 0s 3ms/step - loss: 0.1670 - accuracy: 0.9610\n",
            "Epoch 27/100\n",
            "45/45 [==============================] - 0s 4ms/step - loss: 0.1619 - accuracy: 0.9499\n",
            "Epoch 28/100\n",
            "45/45 [==============================] - 0s 4ms/step - loss: 0.1505 - accuracy: 0.9645\n",
            "Epoch 29/100\n",
            "45/45 [==============================] - 0s 4ms/step - loss: 0.1467 - accuracy: 0.9610\n",
            "Epoch 30/100\n",
            "45/45 [==============================] - 0s 3ms/step - loss: 0.1391 - accuracy: 0.9680\n",
            "Epoch 31/100\n",
            "45/45 [==============================] - 0s 4ms/step - loss: 0.1309 - accuracy: 0.9694\n",
            "Epoch 32/100\n",
            "45/45 [==============================] - 0s 3ms/step - loss: 0.1290 - accuracy: 0.9624\n",
            "Epoch 33/100\n",
            "45/45 [==============================] - 0s 3ms/step - loss: 0.1246 - accuracy: 0.9673\n",
            "Epoch 34/100\n",
            "45/45 [==============================] - 0s 3ms/step - loss: 0.1173 - accuracy: 0.9708\n",
            "Epoch 35/100\n",
            "45/45 [==============================] - 0s 4ms/step - loss: 0.1144 - accuracy: 0.9701\n",
            "Epoch 36/100\n",
            "45/45 [==============================] - 0s 3ms/step - loss: 0.1080 - accuracy: 0.9736\n",
            "Epoch 37/100\n",
            "45/45 [==============================] - 0s 4ms/step - loss: 0.1070 - accuracy: 0.9708\n",
            "Epoch 38/100\n",
            "45/45 [==============================] - 0s 3ms/step - loss: 0.1009 - accuracy: 0.9729\n",
            "Epoch 39/100\n",
            "45/45 [==============================] - 0s 4ms/step - loss: 0.0994 - accuracy: 0.9736\n",
            "Epoch 40/100\n",
            "45/45 [==============================] - 0s 3ms/step - loss: 0.0931 - accuracy: 0.9736\n",
            "Epoch 41/100\n",
            "45/45 [==============================] - 0s 4ms/step - loss: 0.0889 - accuracy: 0.9756\n",
            "Epoch 42/100\n",
            "45/45 [==============================] - 0s 3ms/step - loss: 0.0858 - accuracy: 0.9777\n",
            "Epoch 43/100\n",
            "45/45 [==============================] - 0s 3ms/step - loss: 0.0813 - accuracy: 0.9756\n",
            "Epoch 44/100\n",
            "45/45 [==============================] - 0s 4ms/step - loss: 0.0824 - accuracy: 0.9770\n",
            "Epoch 45/100\n",
            "32/45 [====================>.........] - ETA: 0s - loss: 0.0721 - accuracy: 0.9844\n",
            "Reached 98% accuracy so cancelling training!\n",
            "45/45 [==============================] - 0s 3ms/step - loss: 0.0774 - accuracy: 0.9812\n"
          ]
        }
      ],
      "source": [
        "def convolutional_model_with_RMSprop():\n",
        "\n",
        "    #Define the model\n",
        "    model = tf.keras.models.Sequential([\n",
        "\n",
        "    # Add convolutions and max pooling\n",
        "    tf.keras.layers.Conv2D(32, (3,3), activation='relu', input_shape=(8, 8, 1)),\n",
        "    tf.keras.layers.MaxPooling2D(2, 2),\n",
        "\n",
        "    # Add the same layers as before\n",
        "    tf.keras.layers.Flatten(),\n",
        "    tf.keras.layers.Dense(128, activation='relu'),\n",
        "    tf.keras.layers.Dense(10, activation='softmax')\n",
        "    ])\n",
        "\n",
        "\n",
        "    # Use same settings\n",
        "    model.compile(optimizer=\"rmsprop\", loss='sparse_categorical_crossentropy', metrics=['accuracy'])\n",
        "\n",
        "\n",
        "    return model\n",
        "\n",
        "\n",
        "model = convolutional_model_with_RMSprop()\n",
        "\n",
        "# Instantiate the callback class\n",
        "callbacks = myCallback()\n",
        "\n",
        "# Train the model\n",
        "history = model.fit(X_train, y_train, epochs=100, callbacks=[callbacks])"
      ]
    },
    {
      "cell_type": "markdown",
      "id": "bf4NMTKefwbB",
      "metadata": {
        "id": "bf4NMTKefwbB"
      },
      "source": [
        "## After about 45 epochs, RMSprop has reached 98% accuracy."
      ]
    },
    {
      "cell_type": "code",
      "execution_count": 50,
      "id": "tqbxr_ydPQPQ",
      "metadata": {
        "colab": {
          "base_uri": "https://localhost:8080/"
        },
        "id": "tqbxr_ydPQPQ",
        "outputId": "43a4ceb5-ef92-494f-a173-6e479b2bdf98"
      },
      "outputs": [
        {
          "name": "stdout",
          "output_type": "stream",
          "text": [
            "Epoch 1/100\n",
            "45/45 [==============================] - 1s 4ms/step - loss: 2.3020 - accuracy: 0.0891\n",
            "Epoch 2/100\n",
            "45/45 [==============================] - 0s 3ms/step - loss: 2.3013 - accuracy: 0.0877\n",
            "Epoch 3/100\n",
            "45/45 [==============================] - 0s 3ms/step - loss: 2.3009 - accuracy: 0.0870\n",
            "Epoch 4/100\n",
            "45/45 [==============================] - 0s 3ms/step - loss: 2.3005 - accuracy: 0.0974\n",
            "Epoch 5/100\n",
            "45/45 [==============================] - 0s 4ms/step - loss: 2.3003 - accuracy: 0.1225\n",
            "Epoch 6/100\n",
            "45/45 [==============================] - 0s 3ms/step - loss: 2.3000 - accuracy: 0.1399\n",
            "Epoch 7/100\n",
            "45/45 [==============================] - 0s 4ms/step - loss: 2.2997 - accuracy: 0.1545\n",
            "Epoch 8/100\n",
            "45/45 [==============================] - 0s 3ms/step - loss: 2.2994 - accuracy: 0.1559\n",
            "Epoch 9/100\n",
            "45/45 [==============================] - 0s 3ms/step - loss: 2.2991 - accuracy: 0.1601\n",
            "Epoch 10/100\n",
            "45/45 [==============================] - 0s 5ms/step - loss: 2.2989 - accuracy: 0.1670\n",
            "Epoch 11/100\n",
            "45/45 [==============================] - 0s 5ms/step - loss: 2.2987 - accuracy: 0.1914\n",
            "Epoch 12/100\n",
            "45/45 [==============================] - 0s 5ms/step - loss: 2.2985 - accuracy: 0.1928\n",
            "Epoch 13/100\n",
            "45/45 [==============================] - 0s 5ms/step - loss: 2.2984 - accuracy: 0.2046\n",
            "Epoch 14/100\n",
            "45/45 [==============================] - 0s 5ms/step - loss: 2.2983 - accuracy: 0.2011\n",
            "Epoch 15/100\n",
            "45/45 [==============================] - 0s 5ms/step - loss: 2.2982 - accuracy: 0.1858\n",
            "Epoch 16/100\n",
            "45/45 [==============================] - 0s 5ms/step - loss: 2.2981 - accuracy: 0.1997\n",
            "Epoch 17/100\n",
            "45/45 [==============================] - 0s 6ms/step - loss: 2.2980 - accuracy: 0.1900\n",
            "Epoch 18/100\n",
            "45/45 [==============================] - 0s 5ms/step - loss: 2.2980 - accuracy: 0.1969\n",
            "Epoch 19/100\n",
            "45/45 [==============================] - 0s 5ms/step - loss: 2.2979 - accuracy: 0.1969\n",
            "Epoch 20/100\n",
            "45/45 [==============================] - 0s 5ms/step - loss: 2.2978 - accuracy: 0.2095\n",
            "Epoch 21/100\n",
            "45/45 [==============================] - 0s 6ms/step - loss: 2.2977 - accuracy: 0.1928\n",
            "Epoch 22/100\n",
            "45/45 [==============================] - 0s 5ms/step - loss: 2.2977 - accuracy: 0.2053\n",
            "Epoch 23/100\n",
            "45/45 [==============================] - 0s 5ms/step - loss: 2.2976 - accuracy: 0.1990\n",
            "Epoch 24/100\n",
            "45/45 [==============================] - 0s 5ms/step - loss: 2.2975 - accuracy: 0.1997\n",
            "Epoch 25/100\n",
            "45/45 [==============================] - 0s 5ms/step - loss: 2.2975 - accuracy: 0.1872\n",
            "Epoch 26/100\n",
            "45/45 [==============================] - 0s 5ms/step - loss: 2.2974 - accuracy: 0.2039\n",
            "Epoch 27/100\n",
            "45/45 [==============================] - 0s 3ms/step - loss: 2.2973 - accuracy: 0.1955\n",
            "Epoch 28/100\n",
            "45/45 [==============================] - 0s 4ms/step - loss: 2.2973 - accuracy: 0.2046\n",
            "Epoch 29/100\n",
            "45/45 [==============================] - 0s 3ms/step - loss: 2.2972 - accuracy: 0.2095\n",
            "Epoch 30/100\n",
            "45/45 [==============================] - 0s 3ms/step - loss: 2.2971 - accuracy: 0.1983\n",
            "Epoch 31/100\n",
            "45/45 [==============================] - 0s 3ms/step - loss: 2.2971 - accuracy: 0.1983\n",
            "Epoch 32/100\n",
            "45/45 [==============================] - 0s 4ms/step - loss: 2.2970 - accuracy: 0.1942\n",
            "Epoch 33/100\n",
            "45/45 [==============================] - 0s 3ms/step - loss: 2.2969 - accuracy: 0.1955\n",
            "Epoch 34/100\n",
            "45/45 [==============================] - 0s 3ms/step - loss: 2.2969 - accuracy: 0.1962\n",
            "Epoch 35/100\n",
            "45/45 [==============================] - 0s 3ms/step - loss: 2.2968 - accuracy: 0.1969\n",
            "Epoch 36/100\n",
            "45/45 [==============================] - 0s 3ms/step - loss: 2.2967 - accuracy: 0.1955\n",
            "Epoch 37/100\n",
            "45/45 [==============================] - 0s 3ms/step - loss: 2.2966 - accuracy: 0.1942\n",
            "Epoch 38/100\n",
            "45/45 [==============================] - 0s 4ms/step - loss: 2.2966 - accuracy: 0.1949\n",
            "Epoch 39/100\n",
            "45/45 [==============================] - 0s 3ms/step - loss: 2.2965 - accuracy: 0.1928\n",
            "Epoch 40/100\n",
            "45/45 [==============================] - 0s 3ms/step - loss: 2.2964 - accuracy: 0.1935\n",
            "Epoch 41/100\n",
            "45/45 [==============================] - 0s 3ms/step - loss: 2.2964 - accuracy: 0.1907\n",
            "Epoch 42/100\n",
            "45/45 [==============================] - 0s 4ms/step - loss: 2.2963 - accuracy: 0.1816\n",
            "Epoch 43/100\n",
            "45/45 [==============================] - 0s 3ms/step - loss: 2.2963 - accuracy: 0.1886\n",
            "Epoch 44/100\n",
            "45/45 [==============================] - 0s 4ms/step - loss: 2.2962 - accuracy: 0.1844\n",
            "Epoch 45/100\n",
            "45/45 [==============================] - 0s 3ms/step - loss: 2.2961 - accuracy: 0.1844\n",
            "Epoch 46/100\n",
            "45/45 [==============================] - 0s 4ms/step - loss: 2.2961 - accuracy: 0.1844\n",
            "Epoch 47/100\n",
            "45/45 [==============================] - 0s 4ms/step - loss: 2.2960 - accuracy: 0.1837\n",
            "Epoch 48/100\n",
            "45/45 [==============================] - 0s 4ms/step - loss: 2.2960 - accuracy: 0.1705\n",
            "Epoch 49/100\n",
            "45/45 [==============================] - 0s 4ms/step - loss: 2.2959 - accuracy: 0.1816\n",
            "Epoch 50/100\n",
            "45/45 [==============================] - 0s 4ms/step - loss: 2.2959 - accuracy: 0.1621\n",
            "Epoch 51/100\n",
            "45/45 [==============================] - 0s 3ms/step - loss: 2.2958 - accuracy: 0.1614\n",
            "Epoch 52/100\n",
            "45/45 [==============================] - 0s 3ms/step - loss: 2.2957 - accuracy: 0.1719\n",
            "Epoch 53/100\n",
            "45/45 [==============================] - 0s 3ms/step - loss: 2.2957 - accuracy: 0.1670\n",
            "Epoch 54/100\n",
            "45/45 [==============================] - 0s 3ms/step - loss: 2.2956 - accuracy: 0.1698\n",
            "Epoch 55/100\n",
            "45/45 [==============================] - 0s 3ms/step - loss: 2.2956 - accuracy: 0.1566\n",
            "Epoch 56/100\n",
            "45/45 [==============================] - 0s 4ms/step - loss: 2.2955 - accuracy: 0.1587\n",
            "Epoch 57/100\n",
            "45/45 [==============================] - 0s 3ms/step - loss: 2.2955 - accuracy: 0.1566\n",
            "Epoch 58/100\n",
            "45/45 [==============================] - 0s 3ms/step - loss: 2.2954 - accuracy: 0.1614\n",
            "Epoch 59/100\n",
            "45/45 [==============================] - 0s 4ms/step - loss: 2.2953 - accuracy: 0.1482\n",
            "Epoch 60/100\n",
            "45/45 [==============================] - 0s 4ms/step - loss: 2.2953 - accuracy: 0.1517\n",
            "Epoch 61/100\n",
            "45/45 [==============================] - 0s 3ms/step - loss: 2.2952 - accuracy: 0.1608\n",
            "Epoch 62/100\n",
            "45/45 [==============================] - 0s 3ms/step - loss: 2.2952 - accuracy: 0.1517\n",
            "Epoch 63/100\n",
            "45/45 [==============================] - 0s 4ms/step - loss: 2.2951 - accuracy: 0.1517\n",
            "Epoch 64/100\n",
            "45/45 [==============================] - 0s 3ms/step - loss: 2.2951 - accuracy: 0.1468\n",
            "Epoch 65/100\n",
            "45/45 [==============================] - 0s 3ms/step - loss: 2.2950 - accuracy: 0.1538\n",
            "Epoch 66/100\n",
            "45/45 [==============================] - 0s 3ms/step - loss: 2.2949 - accuracy: 0.1461\n",
            "Epoch 67/100\n",
            "45/45 [==============================] - 0s 3ms/step - loss: 2.2949 - accuracy: 0.1441\n",
            "Epoch 68/100\n",
            "45/45 [==============================] - 0s 4ms/step - loss: 2.2948 - accuracy: 0.1475\n",
            "Epoch 69/100\n",
            "45/45 [==============================] - 0s 4ms/step - loss: 2.2948 - accuracy: 0.1406\n",
            "Epoch 70/100\n",
            "45/45 [==============================] - 0s 3ms/step - loss: 2.2947 - accuracy: 0.1482\n",
            "Epoch 71/100\n",
            "45/45 [==============================] - 0s 3ms/step - loss: 2.2947 - accuracy: 0.1420\n",
            "Epoch 72/100\n",
            "45/45 [==============================] - 0s 3ms/step - loss: 2.2946 - accuracy: 0.1524\n",
            "Epoch 73/100\n",
            "45/45 [==============================] - 0s 3ms/step - loss: 2.2945 - accuracy: 0.1447\n",
            "Epoch 74/100\n",
            "45/45 [==============================] - 0s 3ms/step - loss: 2.2945 - accuracy: 0.1427\n",
            "Epoch 75/100\n",
            "45/45 [==============================] - 0s 4ms/step - loss: 2.2944 - accuracy: 0.1461\n",
            "Epoch 76/100\n",
            "45/45 [==============================] - 0s 3ms/step - loss: 2.2944 - accuracy: 0.1406\n",
            "Epoch 77/100\n",
            "45/45 [==============================] - 0s 3ms/step - loss: 2.2943 - accuracy: 0.1420\n",
            "Epoch 78/100\n",
            "45/45 [==============================] - 0s 3ms/step - loss: 2.2942 - accuracy: 0.1461\n",
            "Epoch 79/100\n",
            "45/45 [==============================] - 0s 3ms/step - loss: 2.2942 - accuracy: 0.1427\n",
            "Epoch 80/100\n",
            "45/45 [==============================] - 0s 3ms/step - loss: 2.2941 - accuracy: 0.1385\n",
            "Epoch 81/100\n",
            "45/45 [==============================] - 0s 4ms/step - loss: 2.2941 - accuracy: 0.1441\n",
            "Epoch 82/100\n",
            "45/45 [==============================] - 0s 3ms/step - loss: 2.2940 - accuracy: 0.1392\n",
            "Epoch 83/100\n",
            "45/45 [==============================] - 0s 3ms/step - loss: 2.2939 - accuracy: 0.1392\n",
            "Epoch 84/100\n",
            "45/45 [==============================] - 0s 3ms/step - loss: 2.2939 - accuracy: 0.1427\n",
            "Epoch 85/100\n",
            "45/45 [==============================] - 0s 3ms/step - loss: 2.2938 - accuracy: 0.1406\n",
            "Epoch 86/100\n",
            "45/45 [==============================] - 0s 4ms/step - loss: 2.2938 - accuracy: 0.1475\n",
            "Epoch 87/100\n",
            "45/45 [==============================] - 0s 5ms/step - loss: 2.2937 - accuracy: 0.1434\n",
            "Epoch 88/100\n",
            "45/45 [==============================] - 0s 5ms/step - loss: 2.2936 - accuracy: 0.1420\n",
            "Epoch 89/100\n",
            "45/45 [==============================] - 0s 5ms/step - loss: 2.2936 - accuracy: 0.1399\n",
            "Epoch 90/100\n",
            "45/45 [==============================] - 0s 5ms/step - loss: 2.2935 - accuracy: 0.1468\n",
            "Epoch 91/100\n",
            "45/45 [==============================] - 0s 5ms/step - loss: 2.2935 - accuracy: 0.1441\n",
            "Epoch 92/100\n",
            "45/45 [==============================] - 0s 5ms/step - loss: 2.2934 - accuracy: 0.1399\n",
            "Epoch 93/100\n",
            "45/45 [==============================] - 0s 5ms/step - loss: 2.2933 - accuracy: 0.1434\n",
            "Epoch 94/100\n",
            "45/45 [==============================] - 0s 5ms/step - loss: 2.2933 - accuracy: 0.1441\n",
            "Epoch 95/100\n",
            "45/45 [==============================] - 0s 5ms/step - loss: 2.2932 - accuracy: 0.1503\n",
            "Epoch 96/100\n",
            "45/45 [==============================] - 0s 6ms/step - loss: 2.2931 - accuracy: 0.1371\n",
            "Epoch 97/100\n",
            "45/45 [==============================] - 0s 5ms/step - loss: 2.2931 - accuracy: 0.1510\n",
            "Epoch 98/100\n",
            "45/45 [==============================] - 0s 5ms/step - loss: 2.2930 - accuracy: 0.1420\n",
            "Epoch 99/100\n",
            "45/45 [==============================] - 0s 5ms/step - loss: 2.2929 - accuracy: 0.1441\n",
            "Epoch 100/100\n",
            "45/45 [==============================] - 0s 5ms/step - loss: 2.2929 - accuracy: 0.1434\n"
          ]
        }
      ],
      "source": [
        "def convolutional_model_with_Adagrad():\n",
        "\n",
        "    #Define the model\n",
        "    model = tf.keras.models.Sequential([\n",
        "\n",
        "    # Add convolutions and max pooling\n",
        "    tf.keras.layers.Conv2D(32, (3,3), activation='relu', input_shape=(8, 8, 1)),\n",
        "    tf.keras.layers.MaxPooling2D(2, 2),\n",
        "\n",
        "    # Add the same layers as before\n",
        "    tf.keras.layers.Flatten(),\n",
        "    tf.keras.layers.Dense(128, activation='relu'),\n",
        "    tf.keras.layers.Dense(10, activation='softmax')\n",
        "    ])\n",
        "\n",
        "\n",
        "    # Use same settings\n",
        "    model.compile(optimizer=\"adagrad\", loss='sparse_categorical_crossentropy', metrics=['accuracy'])\n",
        "\n",
        "\n",
        "    return model\n",
        "\n",
        "\n",
        "model = convolutional_model_with_Adagrad()\n",
        "\n",
        "# Instantiate the callback class\n",
        "callbacks = myCallback()\n",
        "\n",
        "# Train the model\n",
        "history = model.fit(X_train, y_train, epochs=100, callbacks=[callbacks])"
      ]
    },
    {
      "cell_type": "markdown",
      "id": "RazyxtdWqds_",
      "metadata": {
        "id": "RazyxtdWqds_"
      },
      "source": [
        "## Adagrad never reached it"
      ]
    },
    {
      "cell_type": "code",
      "execution_count": 51,
      "id": "DZnehn8dfdHg",
      "metadata": {
        "colab": {
          "base_uri": "https://localhost:8080/"
        },
        "id": "DZnehn8dfdHg",
        "outputId": "c811d668-6d87-40e9-9871-67cfc9baf924"
      },
      "outputs": [
        {
          "name": "stdout",
          "output_type": "stream",
          "text": [
            "Epoch 1/100\n",
            "45/45 [==============================] - 1s 4ms/step - loss: 2.2822 - accuracy: 0.2818\n",
            "Epoch 2/100\n",
            "45/45 [==============================] - 0s 4ms/step - loss: 2.1820 - accuracy: 0.5901\n",
            "Epoch 3/100\n",
            "45/45 [==============================] - 0s 4ms/step - loss: 1.9040 - accuracy: 0.6813\n",
            "Epoch 4/100\n",
            "45/45 [==============================] - 0s 3ms/step - loss: 1.4274 - accuracy: 0.7815\n",
            "Epoch 5/100\n",
            "45/45 [==============================] - 0s 4ms/step - loss: 0.9851 - accuracy: 0.8323\n",
            "Epoch 6/100\n",
            "45/45 [==============================] - 0s 4ms/step - loss: 0.7214 - accuracy: 0.8580\n",
            "Epoch 7/100\n",
            "45/45 [==============================] - 0s 4ms/step - loss: 0.5689 - accuracy: 0.8831\n",
            "Epoch 8/100\n",
            "45/45 [==============================] - 0s 4ms/step - loss: 0.4770 - accuracy: 0.8942\n",
            "Epoch 9/100\n",
            "45/45 [==============================] - 0s 4ms/step - loss: 0.4196 - accuracy: 0.9026\n",
            "Epoch 10/100\n",
            "45/45 [==============================] - 0s 4ms/step - loss: 0.3708 - accuracy: 0.9068\n",
            "Epoch 11/100\n",
            "45/45 [==============================] - 0s 3ms/step - loss: 0.3272 - accuracy: 0.9221\n",
            "Epoch 12/100\n",
            "45/45 [==============================] - 0s 4ms/step - loss: 0.2993 - accuracy: 0.9276\n",
            "Epoch 13/100\n",
            "45/45 [==============================] - 0s 4ms/step - loss: 0.2791 - accuracy: 0.9311\n",
            "Epoch 14/100\n",
            "45/45 [==============================] - 0s 4ms/step - loss: 0.2574 - accuracy: 0.9318\n",
            "Epoch 15/100\n",
            "45/45 [==============================] - 0s 4ms/step - loss: 0.2374 - accuracy: 0.9395\n",
            "Epoch 16/100\n",
            "45/45 [==============================] - 0s 4ms/step - loss: 0.2221 - accuracy: 0.9443\n",
            "Epoch 17/100\n",
            "45/45 [==============================] - 0s 4ms/step - loss: 0.2077 - accuracy: 0.9506\n",
            "Epoch 18/100\n",
            "45/45 [==============================] - 0s 4ms/step - loss: 0.1993 - accuracy: 0.9492\n",
            "Epoch 19/100\n",
            "45/45 [==============================] - 0s 4ms/step - loss: 0.1856 - accuracy: 0.9506\n",
            "Epoch 20/100\n",
            "45/45 [==============================] - 0s 4ms/step - loss: 0.1748 - accuracy: 0.9638\n",
            "Epoch 21/100\n",
            "45/45 [==============================] - 0s 4ms/step - loss: 0.1669 - accuracy: 0.9555\n",
            "Epoch 22/100\n",
            "45/45 [==============================] - 0s 4ms/step - loss: 0.1603 - accuracy: 0.9631\n",
            "Epoch 23/100\n",
            "45/45 [==============================] - 0s 4ms/step - loss: 0.1517 - accuracy: 0.9617\n",
            "Epoch 24/100\n",
            "45/45 [==============================] - 0s 4ms/step - loss: 0.1449 - accuracy: 0.9638\n",
            "Epoch 25/100\n",
            "45/45 [==============================] - 0s 4ms/step - loss: 0.1407 - accuracy: 0.9652\n",
            "Epoch 26/100\n",
            "45/45 [==============================] - 0s 4ms/step - loss: 0.1367 - accuracy: 0.9659\n",
            "Epoch 27/100\n",
            "45/45 [==============================] - 0s 4ms/step - loss: 0.1292 - accuracy: 0.9680\n",
            "Epoch 28/100\n",
            "45/45 [==============================] - 0s 3ms/step - loss: 0.1257 - accuracy: 0.9666\n",
            "Epoch 29/100\n",
            "45/45 [==============================] - 0s 4ms/step - loss: 0.1198 - accuracy: 0.9687\n",
            "Epoch 30/100\n",
            "45/45 [==============================] - 0s 4ms/step - loss: 0.1150 - accuracy: 0.9701\n",
            "Epoch 31/100\n",
            "45/45 [==============================] - 0s 4ms/step - loss: 0.1133 - accuracy: 0.9680\n",
            "Epoch 32/100\n",
            "45/45 [==============================] - 0s 3ms/step - loss: 0.1056 - accuracy: 0.9729\n",
            "Epoch 33/100\n",
            "45/45 [==============================] - 0s 4ms/step - loss: 0.1039 - accuracy: 0.9749\n",
            "Epoch 34/100\n",
            "45/45 [==============================] - 0s 4ms/step - loss: 0.1000 - accuracy: 0.9708\n",
            "Epoch 35/100\n",
            "45/45 [==============================] - 0s 4ms/step - loss: 0.0974 - accuracy: 0.9743\n",
            "Epoch 36/100\n",
            "45/45 [==============================] - 0s 4ms/step - loss: 0.0944 - accuracy: 0.9756\n",
            "Epoch 37/100\n",
            "45/45 [==============================] - 0s 4ms/step - loss: 0.0899 - accuracy: 0.9763\n",
            "Epoch 38/100\n",
            "45/45 [==============================] - 0s 4ms/step - loss: 0.0835 - accuracy: 0.9791\n",
            "Epoch 39/100\n",
            "45/45 [==============================] - 0s 4ms/step - loss: 0.0854 - accuracy: 0.9784\n",
            "Epoch 40/100\n",
            "41/45 [==========================>...] - ETA: 0s - loss: 0.0775 - accuracy: 0.9817\n",
            "Reached 98% accuracy so cancelling training!\n",
            "45/45 [==============================] - 0s 4ms/step - loss: 0.0787 - accuracy: 0.9805\n"
          ]
        }
      ],
      "source": [
        "def convolutional_model_with_Adam():\n",
        "\n",
        "    #Define the model\n",
        "    model = tf.keras.models.Sequential([\n",
        "\n",
        "    # Add convolutions and max pooling\n",
        "    tf.keras.layers.Conv2D(32, (3,3), activation='relu', input_shape=(8, 8, 1)),\n",
        "    tf.keras.layers.MaxPooling2D(2, 2),\n",
        "\n",
        "    # Add the same layers as before\n",
        "    tf.keras.layers.Flatten(),\n",
        "    tf.keras.layers.Dense(128, activation='relu'),\n",
        "    tf.keras.layers.Dense(10, activation='softmax')\n",
        "    ])\n",
        "\n",
        "\n",
        "    # Use same settings\n",
        "    model.compile(optimizer=\"adam\", loss='sparse_categorical_crossentropy', metrics=['accuracy'])\n",
        "\n",
        "\n",
        "    return model\n",
        "\n",
        "\n",
        "model = convolutional_model_with_Adam()\n",
        "\n",
        "# Instantiate the callback class\n",
        "callbacks = myCallback()\n",
        "\n",
        "# Train the model\n",
        "history = model.fit(X_train, y_train, epochs=100, callbacks=[callbacks])"
      ]
    },
    {
      "cell_type": "markdown",
      "id": "ILiV-UDoqhrk",
      "metadata": {
        "id": "ILiV-UDoqhrk"
      },
      "source": [
        "## Adam, in this situation, beats out RMS prop on average. In this example, it reached 98% accuracy in just 40 epochs."
      ]
    }
  ],
  "metadata": {
    "colab": {
      "provenance": []
    },
    "kernelspec": {
      "display_name": "Python 3 (ipykernel)",
      "language": "python",
      "name": "python3"
    },
    "language_info": {
      "codemirror_mode": {
        "name": "ipython",
        "version": 3
      },
      "file_extension": ".py",
      "mimetype": "text/x-python",
      "name": "python",
      "nbconvert_exporter": "python",
      "pygments_lexer": "ipython3",
      "version": "3.11.6"
    }
  },
  "nbformat": 4,
  "nbformat_minor": 5
}

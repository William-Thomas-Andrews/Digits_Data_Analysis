{
  "cells": [
    {
      "cell_type": "markdown",
      "id": "c0e18b6c-df85-493c-8ae8-397a89e7ec29",
      "metadata": {
        "id": "c0e18b6c-df85-493c-8ae8-397a89e7ec29"
      },
      "source": [
        "# Sklearn Digits Data Analysis"
      ]
    },
    {
      "cell_type": "markdown",
      "id": "2abb8aae-de23-4d15-8aa7-164c626d3f55",
      "metadata": {
        "id": "2abb8aae-de23-4d15-8aa7-164c626d3f55"
      },
      "source": [
        "### Getting the data in order"
      ]
    },
    {
      "cell_type": "code",
      "execution_count": 179,
      "id": "4a1e700d-4486-4aad-abd6-a63920456a44",
      "metadata": {
        "id": "4a1e700d-4486-4aad-abd6-a63920456a44"
      },
      "outputs": [],
      "source": [
        "import matplotlib.pyplot as plt\n",
        "import numpy as np\n",
        "import pandas as pd\n",
        "from sklearn import datasets\n",
        "\n",
        "digits = datasets.load_digits()"
      ]
    },
    {
      "cell_type": "code",
      "execution_count": 180,
      "id": "188bdc60-4658-4d5d-bbde-748273185759",
      "metadata": {
        "colab": {
          "base_uri": "https://localhost:8080/"
        },
        "id": "188bdc60-4658-4d5d-bbde-748273185759",
        "outputId": "6a2b3e2f-4c7a-4d73-f3b2-a8e2b299d54c"
      },
      "outputs": [
        {
          "output_type": "stream",
          "name": "stdout",
          "text": [
            "[[ 0.  0.  5. ...  0.  0.  0.]\n",
            " [ 0.  0.  0. ... 10.  0.  0.]\n",
            " [ 0.  0.  0. ... 16.  9.  0.]\n",
            " ...\n",
            " [ 0.  0.  1. ...  6.  0.  0.]\n",
            " [ 0.  0.  2. ... 12.  0.  0.]\n",
            " [ 0.  0. 10. ... 12.  1.  0.]]\n"
          ]
        }
      ],
      "source": [
        "X = digits.data\n",
        "print(X)"
      ]
    },
    {
      "cell_type": "code",
      "source": [
        "print(X[0])"
      ],
      "metadata": {
        "colab": {
          "base_uri": "https://localhost:8080/"
        },
        "id": "QsIA5OXa11Z6",
        "outputId": "3d073325-ab19-4828-85a3-7ad4e5ec2d35"
      },
      "id": "QsIA5OXa11Z6",
      "execution_count": 181,
      "outputs": [
        {
          "output_type": "stream",
          "name": "stdout",
          "text": [
            "[ 0.  0.  5. 13.  9.  1.  0.  0.  0.  0. 13. 15. 10. 15.  5.  0.  0.  3.\n",
            " 15.  2.  0. 11.  8.  0.  0.  4. 12.  0.  0.  8.  8.  0.  0.  5.  8.  0.\n",
            "  0.  9.  8.  0.  0.  4. 11.  0.  1. 12.  7.  0.  0.  2. 14.  5. 10. 12.\n",
            "  0.  0.  0.  0.  6. 13. 10.  0.  0.  0.]\n"
          ]
        }
      ]
    },
    {
      "cell_type": "code",
      "source": [
        "print(X.shape)"
      ],
      "metadata": {
        "colab": {
          "base_uri": "https://localhost:8080/"
        },
        "id": "oD_sqJCE1Ykn",
        "outputId": "16b34a81-7148-42d9-f2b6-db3bc656a1c4"
      },
      "id": "oD_sqJCE1Ykn",
      "execution_count": 182,
      "outputs": [
        {
          "output_type": "stream",
          "name": "stdout",
          "text": [
            "(1797, 64)\n"
          ]
        }
      ]
    },
    {
      "cell_type": "code",
      "execution_count": 183,
      "id": "f99c2046-4382-4a4f-bad2-b14a30e475c0",
      "metadata": {
        "colab": {
          "base_uri": "https://localhost:8080/"
        },
        "id": "f99c2046-4382-4a4f-bad2-b14a30e475c0",
        "outputId": "fea78333-d3d1-4031-c7e3-b0bf31764caf"
      },
      "outputs": [
        {
          "output_type": "stream",
          "name": "stdout",
          "text": [
            "[0 1 2 ... 8 9 8]\n"
          ]
        }
      ],
      "source": [
        "y = digits.target\n",
        "print(y)"
      ]
    },
    {
      "cell_type": "code",
      "source": [
        "print(y.shape)"
      ],
      "metadata": {
        "colab": {
          "base_uri": "https://localhost:8080/"
        },
        "id": "5922ofGH6mhE",
        "outputId": "7f7e6968-daf8-480c-c938-cc2f37db3aad"
      },
      "id": "5922ofGH6mhE",
      "execution_count": 184,
      "outputs": [
        {
          "output_type": "stream",
          "name": "stdout",
          "text": [
            "(1797,)\n"
          ]
        }
      ]
    },
    {
      "cell_type": "markdown",
      "id": "42d59feb-1697-4648-b55b-04ab599ab653",
      "metadata": {
        "id": "42d59feb-1697-4648-b55b-04ab599ab653"
      },
      "source": [
        "### Performing K-fold Cross Validation"
      ]
    },
    {
      "cell_type": "code",
      "execution_count": 185,
      "id": "41defc96-1f8b-4aed-a660-0772a1f72aea",
      "metadata": {
        "id": "41defc96-1f8b-4aed-a660-0772a1f72aea"
      },
      "outputs": [],
      "source": [
        "def do_Kfold(model, X, y, k, scaler = None, random_state = 146):\n",
        "    from sklearn.model_selection import KFold\n",
        "\n",
        "    kf = KFold(n_splits=k, random_state = random_state, shuffle=True)\n",
        "\n",
        "    train_scores = []\n",
        "    test_scores = []\n",
        "\n",
        "    for idxTrain, idxTest in kf.split(X):\n",
        "        Xtrain = X[idxTrain, :]\n",
        "        Xtest = X[idxTest, :]\n",
        "        ytrain = y[idxTrain]\n",
        "        ytest = y[idxTest]\n",
        "        if scaler != None:\n",
        "            Xtrain = scaler.fit_transform(Xtrain)\n",
        "            Xtest = scaler.transform(Xtest)\n",
        "\n",
        "        model.fit(Xtrain,ytrain)\n",
        "\n",
        "        train_scores.append(model.score(Xtrain,ytrain))\n",
        "        test_scores.append(model.score(Xtest,ytest))\n",
        "\n",
        "    return train_scores, test_scores"
      ]
    },
    {
      "cell_type": "code",
      "execution_count": 186,
      "id": "8bae2857-a432-4bed-aba4-bb6f022605d6",
      "metadata": {
        "id": "8bae2857-a432-4bed-aba4-bb6f022605d6"
      },
      "outputs": [],
      "source": [
        "from sklearn.svm import SVC as SVC"
      ]
    },
    {
      "cell_type": "code",
      "execution_count": 187,
      "id": "4d1d651c-c256-440c-bfca-a0af61885edd",
      "metadata": {
        "id": "4d1d651c-c256-440c-bfca-a0af61885edd"
      },
      "outputs": [],
      "source": [
        "svc = SVC()"
      ]
    },
    {
      "cell_type": "code",
      "execution_count": 188,
      "id": "e382f77b-63a2-4419-a6a0-b273be794f67",
      "metadata": {
        "id": "e382f77b-63a2-4419-a6a0-b273be794f67"
      },
      "outputs": [],
      "source": [
        "results = do_Kfold(model = svc, X = digits.data, y = y, k = 25, scaler = None, random_state = 146)"
      ]
    },
    {
      "cell_type": "code",
      "execution_count": 189,
      "id": "ce46e066-bd82-496f-b358-bcec9421ccb0",
      "metadata": {
        "colab": {
          "base_uri": "https://localhost:8080/"
        },
        "id": "ce46e066-bd82-496f-b358-bcec9421ccb0",
        "outputId": "f489abc7-c6c2-4f63-82c7-b9afbec3a52d"
      },
      "outputs": [
        {
          "output_type": "execute_result",
          "data": {
            "text/plain": [
              "([0.9959420289855072,\n",
              "  0.9959420289855072,\n",
              "  0.9965217391304347,\n",
              "  0.9965217391304347,\n",
              "  0.9971014492753624,\n",
              "  0.9965217391304347,\n",
              "  0.9965217391304347,\n",
              "  0.9965217391304347,\n",
              "  0.9965217391304347,\n",
              "  0.9971014492753624,\n",
              "  0.9971014492753624,\n",
              "  0.9965217391304347,\n",
              "  0.9971014492753624,\n",
              "  0.9965217391304347,\n",
              "  0.9965217391304347,\n",
              "  0.9976811594202899,\n",
              "  0.9971014492753624,\n",
              "  0.9965217391304347,\n",
              "  0.9965217391304347,\n",
              "  0.9965217391304347,\n",
              "  0.9971014492753624,\n",
              "  0.9965217391304347,\n",
              "  0.996523754345307,\n",
              "  0.996523754345307,\n",
              "  0.9959443800695249],\n",
              " [1.0,\n",
              "  0.9722222222222222,\n",
              "  0.9861111111111112,\n",
              "  0.9861111111111112,\n",
              "  1.0,\n",
              "  0.9861111111111112,\n",
              "  1.0,\n",
              "  0.9861111111111112,\n",
              "  0.9722222222222222,\n",
              "  0.9583333333333334,\n",
              "  0.9861111111111112,\n",
              "  0.9861111111111112,\n",
              "  0.9861111111111112,\n",
              "  1.0,\n",
              "  1.0,\n",
              "  0.9722222222222222,\n",
              "  0.9861111111111112,\n",
              "  1.0,\n",
              "  0.9861111111111112,\n",
              "  1.0,\n",
              "  1.0,\n",
              "  1.0,\n",
              "  0.9859154929577465,\n",
              "  1.0,\n",
              "  0.9859154929577465])"
            ]
          },
          "metadata": {},
          "execution_count": 189
        }
      ],
      "source": [
        "results"
      ]
    },
    {
      "cell_type": "code",
      "execution_count": 190,
      "id": "7fafc103-521e-468d-9443-9e9349c2d756",
      "metadata": {
        "colab": {
          "base_uri": "https://localhost:8080/"
        },
        "id": "7fafc103-521e-468d-9443-9e9349c2d756",
        "outputId": "417bce51-d283-4f63-a774-4eb0b0992f74"
      },
      "outputs": [
        {
          "output_type": "execute_result",
          "data": {
            "text/plain": [
              "0.9888732394366196"
            ]
          },
          "metadata": {},
          "execution_count": 190
        }
      ],
      "source": [
        "np.mean(results[1])"
      ]
    },
    {
      "cell_type": "markdown",
      "id": "e3afcb63-fab1-4fe1-bf9f-8cb1f4b47941",
      "metadata": {
        "id": "e3afcb63-fab1-4fe1-bf9f-8cb1f4b47941"
      },
      "source": [
        "#### The scores are very good"
      ]
    },
    {
      "cell_type": "markdown",
      "id": "1ce81d0d-669c-455b-8b60-fff39f73d4b6",
      "metadata": {
        "id": "1ce81d0d-669c-455b-8b60-fff39f73d4b6"
      },
      "source": [
        "### Now lets do a single train test split"
      ]
    },
    {
      "cell_type": "code",
      "execution_count": 191,
      "id": "57e33d5e-9649-490a-b6b7-dda04881047f",
      "metadata": {
        "id": "57e33d5e-9649-490a-b6b7-dda04881047f"
      },
      "outputs": [],
      "source": [
        "from sklearn.model_selection import train_test_split as tts\n",
        "X_train, X_test, y_train, y_test = tts(X, y, test_size=0.25)"
      ]
    },
    {
      "cell_type": "markdown",
      "id": "384a8ef4-fa1d-4015-818c-78fbb94c4d58",
      "metadata": {
        "id": "384a8ef4-fa1d-4015-818c-78fbb94c4d58"
      },
      "source": [
        "### Then fit and score the model"
      ]
    },
    {
      "cell_type": "code",
      "execution_count": 192,
      "id": "40a6f1d5-8423-4293-a25a-d3638be56b60",
      "metadata": {
        "colab": {
          "base_uri": "https://localhost:8080/",
          "height": 75
        },
        "id": "40a6f1d5-8423-4293-a25a-d3638be56b60",
        "outputId": "0ec7041c-f0e5-4064-e6d8-40f6db264128"
      },
      "outputs": [
        {
          "output_type": "execute_result",
          "data": {
            "text/plain": [
              "SVC()"
            ],
            "text/html": [
              "<style>#sk-container-id-2 {color: black;background-color: white;}#sk-container-id-2 pre{padding: 0;}#sk-container-id-2 div.sk-toggleable {background-color: white;}#sk-container-id-2 label.sk-toggleable__label {cursor: pointer;display: block;width: 100%;margin-bottom: 0;padding: 0.3em;box-sizing: border-box;text-align: center;}#sk-container-id-2 label.sk-toggleable__label-arrow:before {content: \"▸\";float: left;margin-right: 0.25em;color: #696969;}#sk-container-id-2 label.sk-toggleable__label-arrow:hover:before {color: black;}#sk-container-id-2 div.sk-estimator:hover label.sk-toggleable__label-arrow:before {color: black;}#sk-container-id-2 div.sk-toggleable__content {max-height: 0;max-width: 0;overflow: hidden;text-align: left;background-color: #f0f8ff;}#sk-container-id-2 div.sk-toggleable__content pre {margin: 0.2em;color: black;border-radius: 0.25em;background-color: #f0f8ff;}#sk-container-id-2 input.sk-toggleable__control:checked~div.sk-toggleable__content {max-height: 200px;max-width: 100%;overflow: auto;}#sk-container-id-2 input.sk-toggleable__control:checked~label.sk-toggleable__label-arrow:before {content: \"▾\";}#sk-container-id-2 div.sk-estimator input.sk-toggleable__control:checked~label.sk-toggleable__label {background-color: #d4ebff;}#sk-container-id-2 div.sk-label input.sk-toggleable__control:checked~label.sk-toggleable__label {background-color: #d4ebff;}#sk-container-id-2 input.sk-hidden--visually {border: 0;clip: rect(1px 1px 1px 1px);clip: rect(1px, 1px, 1px, 1px);height: 1px;margin: -1px;overflow: hidden;padding: 0;position: absolute;width: 1px;}#sk-container-id-2 div.sk-estimator {font-family: monospace;background-color: #f0f8ff;border: 1px dotted black;border-radius: 0.25em;box-sizing: border-box;margin-bottom: 0.5em;}#sk-container-id-2 div.sk-estimator:hover {background-color: #d4ebff;}#sk-container-id-2 div.sk-parallel-item::after {content: \"\";width: 100%;border-bottom: 1px solid gray;flex-grow: 1;}#sk-container-id-2 div.sk-label:hover label.sk-toggleable__label {background-color: #d4ebff;}#sk-container-id-2 div.sk-serial::before {content: \"\";position: absolute;border-left: 1px solid gray;box-sizing: border-box;top: 0;bottom: 0;left: 50%;z-index: 0;}#sk-container-id-2 div.sk-serial {display: flex;flex-direction: column;align-items: center;background-color: white;padding-right: 0.2em;padding-left: 0.2em;position: relative;}#sk-container-id-2 div.sk-item {position: relative;z-index: 1;}#sk-container-id-2 div.sk-parallel {display: flex;align-items: stretch;justify-content: center;background-color: white;position: relative;}#sk-container-id-2 div.sk-item::before, #sk-container-id-2 div.sk-parallel-item::before {content: \"\";position: absolute;border-left: 1px solid gray;box-sizing: border-box;top: 0;bottom: 0;left: 50%;z-index: -1;}#sk-container-id-2 div.sk-parallel-item {display: flex;flex-direction: column;z-index: 1;position: relative;background-color: white;}#sk-container-id-2 div.sk-parallel-item:first-child::after {align-self: flex-end;width: 50%;}#sk-container-id-2 div.sk-parallel-item:last-child::after {align-self: flex-start;width: 50%;}#sk-container-id-2 div.sk-parallel-item:only-child::after {width: 0;}#sk-container-id-2 div.sk-dashed-wrapped {border: 1px dashed gray;margin: 0 0.4em 0.5em 0.4em;box-sizing: border-box;padding-bottom: 0.4em;background-color: white;}#sk-container-id-2 div.sk-label label {font-family: monospace;font-weight: bold;display: inline-block;line-height: 1.2em;}#sk-container-id-2 div.sk-label-container {text-align: center;}#sk-container-id-2 div.sk-container {/* jupyter's `normalize.less` sets `[hidden] { display: none; }` but bootstrap.min.css set `[hidden] { display: none !important; }` so we also need the `!important` here to be able to override the default hidden behavior on the sphinx rendered scikit-learn.org. See: https://github.com/scikit-learn/scikit-learn/issues/21755 */display: inline-block !important;position: relative;}#sk-container-id-2 div.sk-text-repr-fallback {display: none;}</style><div id=\"sk-container-id-2\" class=\"sk-top-container\"><div class=\"sk-text-repr-fallback\"><pre>SVC()</pre><b>In a Jupyter environment, please rerun this cell to show the HTML representation or trust the notebook. <br />On GitHub, the HTML representation is unable to render, please try loading this page with nbviewer.org.</b></div><div class=\"sk-container\" hidden><div class=\"sk-item\"><div class=\"sk-estimator sk-toggleable\"><input class=\"sk-toggleable__control sk-hidden--visually\" id=\"sk-estimator-id-2\" type=\"checkbox\" checked><label for=\"sk-estimator-id-2\" class=\"sk-toggleable__label sk-toggleable__label-arrow\">SVC</label><div class=\"sk-toggleable__content\"><pre>SVC()</pre></div></div></div></div></div>"
            ]
          },
          "metadata": {},
          "execution_count": 192
        }
      ],
      "source": [
        "svc = SVC()\n",
        "svc.fit(X_train, y_train)"
      ]
    },
    {
      "cell_type": "code",
      "execution_count": 193,
      "id": "e248b01d-e792-49d4-b267-98abe787205e",
      "metadata": {
        "colab": {
          "base_uri": "https://localhost:8080/"
        },
        "id": "e248b01d-e792-49d4-b267-98abe787205e",
        "outputId": "8aa0300a-7824-4177-a3bd-9e812298ce23"
      },
      "outputs": [
        {
          "output_type": "execute_result",
          "data": {
            "text/plain": [
              "0.9822222222222222"
            ]
          },
          "metadata": {},
          "execution_count": 193
        }
      ],
      "source": [
        "svc.score(X_test, y_test)"
      ]
    },
    {
      "cell_type": "markdown",
      "id": "282be312-477d-4ab6-9bc4-1176835a699b",
      "metadata": {
        "id": "282be312-477d-4ab6-9bc4-1176835a699b"
      },
      "source": [
        "### Hyperparameter optimization"
      ]
    },
    {
      "cell_type": "code",
      "execution_count": 194,
      "id": "7291ac19-5268-4363-bfcc-7e1b305e77a0",
      "metadata": {
        "colab": {
          "base_uri": "https://localhost:8080/"
        },
        "id": "7291ac19-5268-4363-bfcc-7e1b305e77a0",
        "outputId": "b8f90cd6-1d3c-4c3e-eb0a-df9fed85acb1"
      },
      "outputs": [
        {
          "output_type": "execute_result",
          "data": {
            "text/plain": [
              "0.9888888888888889"
            ]
          },
          "metadata": {},
          "execution_count": 194
        }
      ],
      "source": [
        "param_grid = dict(C=np.linspace(0.01, 10, 10), kernel = ['linear', 'poly', 'rbf', 'sigmoid'],\n",
        "                  gamma = ['scale', 'auto'])\n",
        "#use 10 folds\n",
        "from sklearn.model_selection import KFold\n",
        "from sklearn.model_selection import GridSearchCV\n",
        "cv = KFold(n_splits=10, random_state=201, shuffle = True)\n",
        "grid = GridSearchCV(svc, param_grid=param_grid, cv=cv, scoring='accuracy')\n",
        "#create the gridsearchCV object, score on accuracy\n",
        "#fit the gridsearch\n",
        "grid.fit(X_train, y_train)\n",
        "grid.score(X_test, y_test)"
      ]
    },
    {
      "cell_type": "code",
      "execution_count": 195,
      "id": "84b65b60-3658-4601-9c8b-bba19d4684f3",
      "metadata": {
        "colab": {
          "base_uri": "https://localhost:8080/"
        },
        "id": "84b65b60-3658-4601-9c8b-bba19d4684f3",
        "outputId": "e2d1bb32-d8f0-452c-8c49-259985af3bbd"
      },
      "outputs": [
        {
          "output_type": "stream",
          "name": "stdout",
          "text": [
            "The best parameters are {'C': 2.23, 'gamma': 'scale', 'kernel': 'rbf'} with a score of 0.99\n"
          ]
        }
      ],
      "source": [
        "print(f'The best parameters are {grid.best_params_} with a score of {grid.best_score_:.2f}')"
      ]
    },
    {
      "cell_type": "code",
      "execution_count": 196,
      "id": "0c42cb28-ee7a-410c-83b2-69ccc7d48751",
      "metadata": {
        "colab": {
          "base_uri": "https://localhost:8080/"
        },
        "id": "0c42cb28-ee7a-410c-83b2-69ccc7d48751",
        "outputId": "9c2f4d65-d614-4c2f-8716-0a64f422dacb"
      },
      "outputs": [
        {
          "output_type": "execute_result",
          "data": {
            "text/plain": [
              "0.9888888888888889"
            ]
          },
          "metadata": {},
          "execution_count": 196
        }
      ],
      "source": [
        "svc = SVC(C = grid.best_params_['C'], gamma = grid.best_params_['gamma'], kernel = grid.best_params_['kernel'])\n",
        "svc.fit(X_train, y_train)\n",
        "svc.score(X_test, y_test)"
      ]
    },
    {
      "cell_type": "markdown",
      "id": "943bb6f0-6376-46d5-b1af-250f09a31df5",
      "metadata": {
        "id": "943bb6f0-6376-46d5-b1af-250f09a31df5"
      },
      "source": [
        "### Displaying the results"
      ]
    },
    {
      "cell_type": "code",
      "execution_count": 197,
      "id": "f44354d4-940e-4157-83b4-0659fe7fe3cd",
      "metadata": {
        "colab": {
          "base_uri": "https://localhost:8080/"
        },
        "id": "f44354d4-940e-4157-83b4-0659fe7fe3cd",
        "outputId": "507f9900-e531-4eac-f0e3-f754f574a074"
      },
      "outputs": [
        {
          "output_type": "stream",
          "name": "stdout",
          "text": [
            "[6 2 6 3 4 8 3 4 2 6 8 0 6 1 3 7 6 3 6 8 9 8 6 7 5 9 0 7 1 4 0 3 2 2 9 7 0\n",
            " 2 1 2 6 8 1 9 7 3 9 5 0 5 9 9 5 1 3 6 5 2 7 4 3 9 0 0 2 1 2 8 9 1 8 0 3 7\n",
            " 8 3 3 7 9 5 6 1 3 2 5 3 2 0 0 6 9 1 9 6 2 0 8 9 6 7 6 4 9 5 8 2 6 6 5 8 5\n",
            " 6 7 8 9 1 6 7 9 9 5 6 7 1 9 7 2 7 8 7 1 4 3 1 7 5 7 5 0 4 5 8 5 5 0 5 5 8\n",
            " 5 4 5 7 1 4 4 3 4 4 2 6 9 2 5 2 4 0 6 0 0 0 9 0 9 7 3 8 9 6 4 5 0 8 8 8 8\n",
            " 6 6 0 6 3 8 7 2 5 3 5 4 6 1 0 3 0 4 2 4 1 1 9 5 8 1 1 4 5 6 5 5 4 7 5 3 2\n",
            " 1 2 2 0 3 6 3 2 7 0 1 7 3 7 7 8 5 8 9 4 3 7 1 1 1 9 3 8 8 9 0 8 8 9 1 6 3\n",
            " 9 6 1 3 0 4 1 8 8 9 8 2 3 0 6 4 2 0 4 7 4 3 1 8 9 1 4 6 3 4 8 9 5 5 6 0 2\n",
            " 6 6 1 6 2 3 3 5 5 0 3 5 7 5 0 1 1 9 9 4 1 3 8 9 5 6 8 7 2 1 9 7 5 6 8 7 7\n",
            " 6 5 2 2 4 9 9 4 9 4 4 0 5 6 9 3 2 6 0 4 3 7 2 4 0 8 6 6 3 2 3 8 1 5 6 9 7\n",
            " 9 6 2 5 2 4 7 6 6 6 5 6 1 5 8 8 2 8 8 6 7 4 3 9 7 1 7 3 0 1 5 9 4 0 7 6 3\n",
            " 7 1 9 2 1 9 0 3 7 3 2 5 4 9 0 5 9 4 7 8 4 4 8 4 9 7 7 0 7 4 2 0 8 5 9 8 1\n",
            " 5 4 5 3 2 5]\n"
          ]
        }
      ],
      "source": [
        "predicted = svc.predict(X_test)\n",
        "print(predicted)"
      ]
    },
    {
      "cell_type": "code",
      "execution_count": 198,
      "id": "0d826dde-11aa-454c-993d-ed76c05884d8",
      "metadata": {
        "colab": {
          "base_uri": "https://localhost:8080/",
          "height": 236
        },
        "id": "0d826dde-11aa-454c-993d-ed76c05884d8",
        "outputId": "ed36fb38-ce30-4e43-8e36-5867b42fa4c9"
      },
      "outputs": [
        {
          "output_type": "display_data",
          "data": {
            "text/plain": [
              "<Figure size 1000x1000 with 5 Axes>"
            ],
            "image/png": "[encoded data removed]"
          },
          "metadata": {}
        }
      ],
      "source": [
        "_, axes = plt.subplots(nrows=1, ncols=5, figsize=(10, 10))\n",
        "for ax, image, prediction, actual in zip(axes, X_test[0:5], predicted[0:5], y_test[0:5]):\n",
        "    # ax.set_axis_off()\n",
        "    image = image.reshape(8, 8)\n",
        "    ax.imshow(image, cmap=plt.cm.gray_r, interpolation=\"nearest\")\n",
        "    ax.set_title(f\"Prediction: {prediction}\")\n",
        "    ax.set_xlabel(f\"Actual: {actual}\")"
      ]
    },
    {
      "cell_type": "code",
      "execution_count": 207,
      "id": "517c6ddd-3da0-4c1b-becd-4067d5c01972",
      "metadata": {
        "colab": {
          "base_uri": "https://localhost:8080/",
          "height": 1000
        },
        "id": "517c6ddd-3da0-4c1b-becd-4067d5c01972",
        "outputId": "693fd2d2-c0bc-49d1-bbdd-b5cf0215a149"
      },
      "outputs": [
        {
          "output_type": "display_data",
          "data": {
            "text/plain": [
              "<Figure size 1000x1000 with 5 Axes>"
            ],
            "image/png": "[encoded data removed]"
          },
          "metadata": {}
        },
        {
          "output_type": "display_data",
          "data": {
            "text/plain": [
              "<Figure size 1000x1000 with 5 Axes>"
            ],
            "image/png": "[encoded data removed]"
          },
          "metadata": {}
        },
        {
          "output_type": "display_data",
          "data": {
            "text/plain": [
              "<Figure size 1000x1000 with 5 Axes>"
            ],
            "image/png": "[encoded data removed]"
          },
          "metadata": {}
        },
        {
          "output_type": "display_data",
          "data": {
            "text/plain": [
              "<Figure size 1000x1000 with 5 Axes>"
            ],
            "image/png": "[encoded data removed]"
          },
          "metadata": {}
        },
        {
          "output_type": "display_data",
          "data": {
            "text/plain": [
              "<Figure size 1000x1000 with 5 Axes>"
            ],
            "image/png": "[encoded data removed]"
          },
          "metadata": {}
        }
      ],
      "source": [
        "for i in np.arange(0, 25, 5):\n",
        "    _, axes = plt.subplots(nrows=1, ncols=5, figsize=(10, 10))\n",
        "    for ax, image, prediction, actual in zip(axes, X_test[(i):(i+5)], predicted[(i):(i+5)], y_test[(i):(i+5)]):\n",
        "        # ax.set_axis_off()\n",
        "        image = image.reshape(8, 8)\n",
        "        ax.imshow(image, cmap=plt.cm.gray_r, interpolation=\"nearest\")\n",
        "        ax.set_title(f\"Prediction: {prediction}\")\n",
        "        ax.set_xlabel(f\"Actual: {actual}\")"
      ]
    },
    {
      "cell_type": "markdown",
      "source": [
        "## Training a basic Keras Neural Network"
      ],
      "metadata": {
        "id": "XJNy5cDQo4z6"
      },
      "id": "XJNy5cDQo4z6"
    },
    {
      "cell_type": "code",
      "source": [
        "from sklearn.model_selection import train_test_split as tts"
      ],
      "metadata": {
        "id": "DOUjC3J16G9S"
      },
      "id": "DOUjC3J16G9S",
      "execution_count": 200,
      "outputs": []
    },
    {
      "cell_type": "code",
      "source": [
        "import tensorflow as tf\n",
        "\n",
        "# Load the digits dataset\n",
        "digits = datasets.load_digits()\n",
        "y = digits.target\n",
        "\n",
        "# Reshape the input data to fit the expected input shape of the Conv2D layer\n",
        "X = digits.images.reshape(-1, 8, 8, 1)  # Assuming the original image size is 8x8\n",
        "\n",
        "# Normalize the input data\n",
        "X = X / 16.0  # Since pixel values range from 0 to 16\n",
        "\n",
        "# Split the data into training and testing sets\n",
        "X_train, X_test, y_train, y_test = tts(X, y, test_size=0.2, random_state=42)\n"
      ],
      "metadata": {
        "id": "3CdktMBu_g4s"
      },
      "id": "3CdktMBu_g4s",
      "execution_count": 217,
      "outputs": []
    },
    {
      "cell_type": "code",
      "source": [
        "X_train.shape"
      ],
      "metadata": {
        "colab": {
          "base_uri": "https://localhost:8080/"
        },
        "id": "_wWq5Ex4LIlQ",
        "outputId": "1a216d60-0453-469b-aff0-cd1c3a9545b8"
      },
      "id": "_wWq5Ex4LIlQ",
      "execution_count": 209,
      "outputs": [
        {
          "output_type": "execute_result",
          "data": {
            "text/plain": [
              "(1437, 8, 8, 1)"
            ]
          },
          "metadata": {},
          "execution_count": 209
        }
      ]
    },
    {
      "cell_type": "code",
      "source": [
        "model = tf.keras.models.Sequential([\n",
        "  tf.keras.layers.Flatten(),\n",
        "  tf.keras.layers.Dense(128, activation=tf.nn.relu),\n",
        "  tf.keras.layers.Dense(10, activation=tf.nn.softmax)\n",
        "])\n",
        "\n",
        "# Setup training parameters\n",
        "model.compile(optimizer='adam', loss='sparse_categorical_crossentropy', metrics=['accuracy'])\n",
        "\n",
        "# Train the model\n",
        "print(f'\\nMODEL TRAINING:')\n",
        "model.fit(training_images, training_labels,epochs=38)\n",
        "\n",
        "# Evaluate on the test set\n",
        "print(f'\\nMODEL EVALUATION:')\n",
        "test_loss = model.evaluate(test_images, test_labels)"
      ],
      "metadata": {
        "colab": {
          "base_uri": "https://localhost:8080/"
        },
        "id": "PPKdhBbFyUlg",
        "outputId": "9a7d7596-d22a-4bff-99ad-5ab7e9a4c844"
      },
      "id": "PPKdhBbFyUlg",
      "execution_count": 211,
      "outputs": [
        {
          "output_type": "stream",
          "name": "stdout",
          "text": [
            "\n",
            "MODEL TRAINING:\n",
            "Epoch 1/38\n",
            "43/43 [==============================] - 1s 3ms/step - loss: 1.7188 - accuracy: 0.4729\n",
            "Epoch 2/38\n",
            "43/43 [==============================] - 0s 3ms/step - loss: 0.6481 - accuracy: 0.8909\n",
            "Epoch 3/38\n",
            "43/43 [==============================] - 0s 3ms/step - loss: 0.3576 - accuracy: 0.9428\n",
            "Epoch 4/38\n",
            "43/43 [==============================] - 0s 3ms/step - loss: 0.2416 - accuracy: 0.9577\n",
            "Epoch 5/38\n",
            "43/43 [==============================] - 0s 2ms/step - loss: 0.1767 - accuracy: 0.9681\n",
            "Epoch 6/38\n",
            "43/43 [==============================] - 0s 2ms/step - loss: 0.1389 - accuracy: 0.9792\n",
            "Epoch 7/38\n",
            "43/43 [==============================] - 0s 2ms/step - loss: 0.1115 - accuracy: 0.9844\n",
            "Epoch 8/38\n",
            "43/43 [==============================] - 0s 2ms/step - loss: 0.0921 - accuracy: 0.9881\n",
            "Epoch 9/38\n",
            "43/43 [==============================] - 0s 3ms/step - loss: 0.0778 - accuracy: 0.9903\n",
            "Epoch 10/38\n",
            "43/43 [==============================] - 0s 2ms/step - loss: 0.0665 - accuracy: 0.9903\n",
            "Epoch 11/38\n",
            "43/43 [==============================] - 0s 2ms/step - loss: 0.0569 - accuracy: 0.9941\n",
            "Epoch 12/38\n",
            "43/43 [==============================] - 0s 3ms/step - loss: 0.0499 - accuracy: 0.9955\n",
            "Epoch 13/38\n",
            "43/43 [==============================] - 0s 3ms/step - loss: 0.0437 - accuracy: 0.9970\n",
            "Epoch 14/38\n",
            "43/43 [==============================] - 0s 3ms/step - loss: 0.0387 - accuracy: 0.9978\n",
            "Epoch 15/38\n",
            "43/43 [==============================] - 0s 2ms/step - loss: 0.0342 - accuracy: 0.9978\n",
            "Epoch 16/38\n",
            "43/43 [==============================] - 0s 2ms/step - loss: 0.0304 - accuracy: 0.9985\n",
            "Epoch 17/38\n",
            "43/43 [==============================] - 0s 2ms/step - loss: 0.0272 - accuracy: 0.9978\n",
            "Epoch 18/38\n",
            "43/43 [==============================] - 0s 2ms/step - loss: 0.0246 - accuracy: 0.9985\n",
            "Epoch 19/38\n",
            "43/43 [==============================] - 0s 3ms/step - loss: 0.0222 - accuracy: 0.9985\n",
            "Epoch 20/38\n",
            "43/43 [==============================] - 0s 2ms/step - loss: 0.0198 - accuracy: 0.9993\n",
            "Epoch 21/38\n",
            "43/43 [==============================] - 0s 3ms/step - loss: 0.0181 - accuracy: 0.9993\n",
            "Epoch 22/38\n",
            "43/43 [==============================] - 0s 2ms/step - loss: 0.0164 - accuracy: 0.9993\n",
            "Epoch 23/38\n",
            "43/43 [==============================] - 0s 2ms/step - loss: 0.0150 - accuracy: 0.9993\n",
            "Epoch 24/38\n",
            "43/43 [==============================] - 0s 2ms/step - loss: 0.0139 - accuracy: 0.9993\n",
            "Epoch 25/38\n",
            "43/43 [==============================] - 0s 2ms/step - loss: 0.0127 - accuracy: 0.9993\n",
            "Epoch 26/38\n",
            "43/43 [==============================] - 0s 3ms/step - loss: 0.0116 - accuracy: 1.0000\n",
            "Epoch 27/38\n",
            "43/43 [==============================] - 0s 2ms/step - loss: 0.0108 - accuracy: 1.0000\n",
            "Epoch 28/38\n",
            "43/43 [==============================] - 0s 2ms/step - loss: 0.0100 - accuracy: 1.0000\n",
            "Epoch 29/38\n",
            "43/43 [==============================] - 0s 3ms/step - loss: 0.0092 - accuracy: 1.0000\n",
            "Epoch 30/38\n",
            "43/43 [==============================] - 0s 3ms/step - loss: 0.0086 - accuracy: 1.0000\n",
            "Epoch 31/38\n",
            "43/43 [==============================] - 0s 3ms/step - loss: 0.0081 - accuracy: 1.0000\n",
            "Epoch 32/38\n",
            "43/43 [==============================] - 0s 3ms/step - loss: 0.0075 - accuracy: 1.0000\n",
            "Epoch 33/38\n",
            "43/43 [==============================] - 0s 2ms/step - loss: 0.0071 - accuracy: 1.0000\n",
            "Epoch 34/38\n",
            "43/43 [==============================] - 0s 2ms/step - loss: 0.0066 - accuracy: 1.0000\n",
            "Epoch 35/38\n",
            "43/43 [==============================] - 0s 3ms/step - loss: 0.0061 - accuracy: 1.0000\n",
            "Epoch 36/38\n",
            "43/43 [==============================] - 0s 3ms/step - loss: 0.0058 - accuracy: 1.0000\n",
            "Epoch 37/38\n",
            "43/43 [==============================] - 0s 3ms/step - loss: 0.0054 - accuracy: 1.0000\n",
            "Epoch 38/38\n",
            "43/43 [==============================] - 0s 3ms/step - loss: 0.0051 - accuracy: 1.0000\n",
            "\n",
            "MODEL EVALUATION:\n",
            "15/15 [==============================] - 0s 3ms/step - loss: 0.0757 - accuracy: 0.9756\n"
          ]
        }
      ]
    },
    {
      "cell_type": "markdown",
      "source": [
        "## Using a convolutional neural network"
      ],
      "metadata": {
        "id": "28I9Nz7kpUd2"
      },
      "id": "28I9Nz7kpUd2"
    },
    {
      "cell_type": "code",
      "source": [
        "# Define the model\n",
        "model = tf.keras.models.Sequential([\n",
        "\n",
        "  # Add convolutions and max pooling\n",
        "  tf.keras.layers.Conv2D(32, (3,3), activation='relu', input_shape=(8, 8, 1)),\n",
        "  tf.keras.layers.MaxPooling2D(2, 2),\n",
        "\n",
        "  # Add the same layers as before\n",
        "  tf.keras.layers.Flatten(),\n",
        "  tf.keras.layers.Dense(128, activation='relu'),\n",
        "  tf.keras.layers.Dense(10, activation='softmax')\n",
        "])\n",
        "\n",
        "# Print the model summary\n",
        "model.summary()\n",
        "\n",
        "# Use same settings\n",
        "model.compile(optimizer='adam', loss='sparse_categorical_crossentropy', metrics=['accuracy'])\n",
        "\n",
        "# Train the model\n",
        "print(f'\\nMODEL TRAINING:')\n",
        "model.fit(X_train, y_train, epochs=38)\n",
        "\n",
        "# Evaluate on the test set\n",
        "print(f'\\nMODEL EVALUATION:')\n",
        "test_loss = model.evaluate(X_test, y_test)\n"
      ],
      "metadata": {
        "colab": {
          "base_uri": "https://localhost:8080/"
        },
        "id": "mi6fliPsy6xA",
        "outputId": "713e5538-1cc5-4ebe-a324-53295d5ab4ab"
      },
      "id": "mi6fliPsy6xA",
      "execution_count": 210,
      "outputs": [
        {
          "output_type": "stream",
          "name": "stdout",
          "text": [
            "Model: \"sequential_75\"\n",
            "_________________________________________________________________\n",
            " Layer (type)                Output Shape              Param #   \n",
            "=================================================================\n",
            " conv2d_74 (Conv2D)          (None, 6, 6, 32)          320       \n",
            "                                                                 \n",
            " max_pooling2d_74 (MaxPooli  (None, 3, 3, 32)          0         \n",
            " ng2D)                                                           \n",
            "                                                                 \n",
            " flatten_75 (Flatten)        (None, 288)               0         \n",
            "                                                                 \n",
            " dense_150 (Dense)           (None, 128)               36992     \n",
            "                                                                 \n",
            " dense_151 (Dense)           (None, 10)                1290      \n",
            "                                                                 \n",
            "=================================================================\n",
            "Total params: 38602 (150.79 KB)\n",
            "Trainable params: 38602 (150.79 KB)\n",
            "Non-trainable params: 0 (0.00 Byte)\n",
            "_________________________________________________________________\n",
            "\n",
            "MODEL TRAINING:\n",
            "Epoch 1/38\n",
            "45/45 [==============================] - 1s 6ms/step - loss: 2.0275 - accuracy: 0.4906\n",
            "Epoch 2/38\n",
            "45/45 [==============================] - 0s 6ms/step - loss: 1.0990 - accuracy: 0.8392\n",
            "Epoch 3/38\n",
            "45/45 [==============================] - 0s 6ms/step - loss: 0.4801 - accuracy: 0.9158\n",
            "Epoch 4/38\n",
            "45/45 [==============================] - 0s 6ms/step - loss: 0.3024 - accuracy: 0.9297\n",
            "Epoch 5/38\n",
            "45/45 [==============================] - 0s 6ms/step - loss: 0.2255 - accuracy: 0.9471\n",
            "Epoch 6/38\n",
            "45/45 [==============================] - 0s 7ms/step - loss: 0.1823 - accuracy: 0.9617\n",
            "Epoch 7/38\n",
            "45/45 [==============================] - 0s 6ms/step - loss: 0.1685 - accuracy: 0.9569\n",
            "Epoch 8/38\n",
            "45/45 [==============================] - 0s 6ms/step - loss: 0.1264 - accuracy: 0.9722\n",
            "Epoch 9/38\n",
            "45/45 [==============================] - 0s 6ms/step - loss: 0.1158 - accuracy: 0.9652\n",
            "Epoch 10/38\n",
            "45/45 [==============================] - 0s 6ms/step - loss: 0.1049 - accuracy: 0.9756\n",
            "Epoch 11/38\n",
            "45/45 [==============================] - 0s 6ms/step - loss: 0.0882 - accuracy: 0.9784\n",
            "Epoch 12/38\n",
            "45/45 [==============================] - 0s 4ms/step - loss: 0.0839 - accuracy: 0.9770\n",
            "Epoch 13/38\n",
            "45/45 [==============================] - 0s 4ms/step - loss: 0.0737 - accuracy: 0.9847\n",
            "Epoch 14/38\n",
            "45/45 [==============================] - 0s 4ms/step - loss: 0.0707 - accuracy: 0.9819\n",
            "Epoch 15/38\n",
            "45/45 [==============================] - 0s 4ms/step - loss: 0.0566 - accuracy: 0.9875\n",
            "Epoch 16/38\n",
            "45/45 [==============================] - 0s 4ms/step - loss: 0.0603 - accuracy: 0.9861\n",
            "Epoch 17/38\n",
            "45/45 [==============================] - 0s 4ms/step - loss: 0.0513 - accuracy: 0.9868\n",
            "Epoch 18/38\n",
            "45/45 [==============================] - 0s 4ms/step - loss: 0.0451 - accuracy: 0.9923\n",
            "Epoch 19/38\n",
            "45/45 [==============================] - 0s 4ms/step - loss: 0.0401 - accuracy: 0.9923\n",
            "Epoch 20/38\n",
            "45/45 [==============================] - 0s 4ms/step - loss: 0.0357 - accuracy: 0.9944\n",
            "Epoch 21/38\n",
            "45/45 [==============================] - 0s 4ms/step - loss: 0.0360 - accuracy: 0.9916\n",
            "Epoch 22/38\n",
            "45/45 [==============================] - 0s 4ms/step - loss: 0.0316 - accuracy: 0.9972\n",
            "Epoch 23/38\n",
            "45/45 [==============================] - 0s 4ms/step - loss: 0.0279 - accuracy: 0.9979\n",
            "Epoch 24/38\n",
            "45/45 [==============================] - 0s 5ms/step - loss: 0.0252 - accuracy: 0.9972\n",
            "Epoch 25/38\n",
            "45/45 [==============================] - 0s 4ms/step - loss: 0.0238 - accuracy: 0.9965\n",
            "Epoch 26/38\n",
            "45/45 [==============================] - 0s 4ms/step - loss: 0.0200 - accuracy: 0.9979\n",
            "Epoch 27/38\n",
            "45/45 [==============================] - 0s 5ms/step - loss: 0.0201 - accuracy: 0.9979\n",
            "Epoch 28/38\n",
            "45/45 [==============================] - 0s 4ms/step - loss: 0.0179 - accuracy: 0.9972\n",
            "Epoch 29/38\n",
            "45/45 [==============================] - 0s 4ms/step - loss: 0.0168 - accuracy: 0.9993\n",
            "Epoch 30/38\n",
            "45/45 [==============================] - 0s 4ms/step - loss: 0.0168 - accuracy: 0.9979\n",
            "Epoch 31/38\n",
            "45/45 [==============================] - 0s 4ms/step - loss: 0.0163 - accuracy: 0.9972\n",
            "Epoch 32/38\n",
            "45/45 [==============================] - 0s 4ms/step - loss: 0.0127 - accuracy: 1.0000\n",
            "Epoch 33/38\n",
            "45/45 [==============================] - 0s 4ms/step - loss: 0.0123 - accuracy: 0.9993\n",
            "Epoch 34/38\n",
            "45/45 [==============================] - 0s 4ms/step - loss: 0.0122 - accuracy: 0.9986\n",
            "Epoch 35/38\n",
            "45/45 [==============================] - 0s 4ms/step - loss: 0.0104 - accuracy: 0.9993\n",
            "Epoch 36/38\n",
            "45/45 [==============================] - 0s 4ms/step - loss: 0.0098 - accuracy: 1.0000\n",
            "Epoch 37/38\n",
            "45/45 [==============================] - 0s 4ms/step - loss: 0.0090 - accuracy: 0.9993\n",
            "Epoch 38/38\n",
            "45/45 [==============================] - 0s 4ms/step - loss: 0.0080 - accuracy: 1.0000\n",
            "\n",
            "MODEL EVALUATION:\n",
            "12/12 [==============================] - 0s 4ms/step - loss: 0.0434 - accuracy: 0.9861\n"
          ]
        }
      ]
    },
    {
      "cell_type": "code",
      "source": [],
      "metadata": {
        "id": "tad6SkeKyazC"
      },
      "id": "tad6SkeKyazC",
      "execution_count": 206,
      "outputs": []
    },
    {
      "cell_type": "markdown",
      "source": [
        "## The final accuracy scores for the convolutional neural network are higher on average than the basic neural network. However, the grid search svm yielded *slightly* higher scores than the convolutional neural network because this is just a simple task. In more complicated examples, one can see the effectivness of neural networks on full display"
      ],
      "metadata": {
        "id": "JzyRs6g5pchP"
      },
      "id": "JzyRs6g5pchP"
    },
    {
      "cell_type": "markdown",
      "source": [
        "## Let's create some functions and callbacks to simplify things."
      ],
      "metadata": {
        "id": "bBZkAtsAqCuS"
      },
      "id": "bBZkAtsAqCuS"
    },
    {
      "cell_type": "code",
      "source": [
        "def reshape_and_normalize(X, y):\n",
        "\n",
        "    digits = datasets.load_digits()\n",
        "\n",
        "    y = digits.target\n",
        "\n",
        "    # Reshape the images to add an extra dimension\n",
        "    X = X.reshape(-1, 8, 8, 1)  # Assuming the original image size is 8x8\n",
        "\n",
        "    # Normalize the input data\n",
        "    X = X / 16.0  # Since pixel values range from 0 to 16\n",
        "\n",
        "    # Split the data into training and testing sets\n",
        "    X_train, X_test, y_train, y_test = tts(X, y, test_size=0.2, random_state=42)\n",
        "\n",
        "    return X_train, X_test, y_train, y_test"
      ],
      "metadata": {
        "id": "70_SWr1GqKc0"
      },
      "id": "70_SWr1GqKc0",
      "execution_count": 220,
      "outputs": []
    },
    {
      "cell_type": "code",
      "source": [
        "X_train, X_test, y_train, y_test = reshape_and_normalize(X, y)\n",
        "\n",
        "print(f\"Maximum pixel value after normalization: {np.max(X_train)}\\n\")\n",
        "print(f\"Shape of training set after reshaping: {X_train.shape}\\n\")\n",
        "print(f\"Shape of one image after reshaping: {X_train[0].shape}\")"
      ],
      "metadata": {
        "colab": {
          "base_uri": "https://localhost:8080/"
        },
        "id": "tIIeNaVArSAU",
        "outputId": "5d721555-5bbe-4ce0-f3b3-537bd4f083fd"
      },
      "id": "tIIeNaVArSAU",
      "execution_count": 221,
      "outputs": [
        {
          "output_type": "stream",
          "name": "stdout",
          "text": [
            "Maximum pixel value after normalization: 1.0\n",
            "\n",
            "Shape of training set after reshaping: (1437, 8, 8, 1)\n",
            "\n",
            "Shape of one image after reshaping: (8, 8, 1)\n"
          ]
        }
      ]
    },
    {
      "cell_type": "code",
      "source": [
        "class myCallback(tf.keras.callbacks.Callback):\n",
        "        # Define the correct function signature for on_epoch_end\n",
        "        def on_epoch_end(self, epoch, logs={}):\n",
        "            # if logs.get('accuracy') > 0.95:\n",
        "            if logs.get('accuracy') > 0.95:\n",
        "\n",
        "                print(\"\\nReached 95% accuracy so cancelling training!\")\n",
        "\n",
        "                # Stop training once the above condition is met\n",
        "                self.model.stop_training = True"
      ],
      "metadata": {
        "id": "lffvgSL2rsvz"
      },
      "id": "lffvgSL2rsvz",
      "execution_count": 222,
      "outputs": []
    },
    {
      "cell_type": "code",
      "source": [
        "def convolutional_model():\n",
        "\n",
        "    #Define the model\n",
        "    model = tf.keras.models.Sequential([\n",
        "\n",
        "    # Add convolutions and max pooling\n",
        "    tf.keras.layers.Conv2D(32, (3,3), activation='relu', input_shape=(8, 8, 1)),\n",
        "    tf.keras.layers.MaxPooling2D(2, 2),\n",
        "\n",
        "    # Add the same layers as before\n",
        "    tf.keras.layers.Flatten(),\n",
        "    tf.keras.layers.Dense(128, activation='relu'),\n",
        "    tf.keras.layers.Dense(10, activation='softmax')\n",
        "    ])\n",
        "\n",
        "\n",
        "    # Use same settings\n",
        "    model.compile(optimizer='adam', loss='sparse_categorical_crossentropy', metrics=['accuracy'])\n",
        "\n",
        "\n",
        "    return model"
      ],
      "metadata": {
        "id": "juILAcjisz99"
      },
      "id": "juILAcjisz99",
      "execution_count": 226,
      "outputs": []
    },
    {
      "cell_type": "code",
      "source": [
        "model = convolutional_model()\n",
        "\n",
        "# Instantiate the callback class\n",
        "callbacks = myCallback()\n",
        "\n",
        "# Train your model (this can take up to 5 minutes)\n",
        "history = model.fit(X_train, y_train, epochs=38, callbacks=[callbacks])"
      ],
      "metadata": {
        "colab": {
          "base_uri": "https://localhost:8080/"
        },
        "id": "EZjT_lHRtT1_",
        "outputId": "d40d78d1-afff-4935-c620-bc7bf1c83ab7"
      },
      "id": "EZjT_lHRtT1_",
      "execution_count": 227,
      "outputs": [
        {
          "output_type": "stream",
          "name": "stdout",
          "text": [
            "Epoch 1/38\n",
            "45/45 [==============================] - 2s 10ms/step - loss: 2.0430 - accuracy: 0.5372\n",
            "Epoch 2/38\n",
            "45/45 [==============================] - 1s 17ms/step - loss: 1.0580 - accuracy: 0.8601\n",
            "Epoch 3/38\n",
            "45/45 [==============================] - 1s 17ms/step - loss: 0.4357 - accuracy: 0.9102\n",
            "Epoch 4/38\n",
            "45/45 [==============================] - 0s 6ms/step - loss: 0.2778 - accuracy: 0.9374\n",
            "Epoch 5/38\n",
            "39/45 [=========================>....] - ETA: 0s - loss: 0.2096 - accuracy: 0.9519\n",
            "Reached 95% accuracy so cancelling training!\n",
            "45/45 [==============================] - 0s 6ms/step - loss: 0.2070 - accuracy: 0.9513\n"
          ]
        }
      ]
    }
  ],
  "metadata": {
    "kernelspec": {
      "display_name": "Python 3 (ipykernel)",
      "language": "python",
      "name": "python3"
    },
    "language_info": {
      "codemirror_mode": {
        "name": "ipython",
        "version": 3
      },
      "file_extension": ".py",
      "mimetype": "text/x-python",
      "name": "python",
      "nbconvert_exporter": "python",
      "pygments_lexer": "ipython3",
      "version": "3.11.6"
    },
    "colab": {
      "provenance": []
    }
  },
  "nbformat": 4,
  "nbformat_minor": 5
}
